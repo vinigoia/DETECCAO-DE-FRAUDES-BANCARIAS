{
  "nbformat": 4,
  "nbformat_minor": 0,
  "metadata": {
    "colab": {
      "provenance": [],
      "toc_visible": true,
      "include_colab_link": true
    },
    "kernelspec": {
      "name": "python3",
      "display_name": "Python 3"
    }
  },
  "cells": [
    {
      "cell_type": "markdown",
      "metadata": {
        "id": "view-in-github",
        "colab_type": "text"
      },
      "source": [
        "<a href=\"https://colab.research.google.com/github/vinigoia/DETECCAO-DE-FRAUDES-BANCARIAS/blob/main/Modelo_para_Detec%C3%A7%C3%A3o_de_Fraudes_Banc%C3%A1rias_Cart%C3%B5es_de_Cr%C3%A9dito.ipynb\" target=\"_parent\"><img src=\"https://colab.research.google.com/assets/colab-badge.svg\" alt=\"Open In Colab\"/></a>"
      ]
    },
    {
      "cell_type": "markdown",
      "metadata": {
        "id": "IR56trFcPcC1"
      },
      "source": [
        "# **MODELOS PARA DETECÇÃO DE FRAUDES EM CARTÕES DE CRÉDITO**\n",
        "\n",
        "_______________________________________________________________________________\n"
      ]
    },
    {
      "cell_type": "markdown",
      "source": [
        "## ***Se você está com pressa!!!***\n",
        "________________________________________________________________________________\n",
        "\n",
        "Com todas as facilidades que a digitalização de processos gera, inevitavelmente o grande número de adaptos atrai caçadores de recompensas os quais querem dinheiro fácil. Fraudes em cartões de crédito é o tema central desse estudo, focado em sua detecção através de técnicas de Machine Learning. A análise de um dataset disponibilizado publicamente com informações pessoais descaracterizadas e a aplicação de modelos supervisionados, como Regressão Logística e Árvores de Decisão, gerou métricas interessantes tanto para aplicações de produção quanto para geração de insights."
      ],
      "metadata": {
        "id": "JoruwKyvrMHZ"
      }
    },
    {
      "cell_type": "markdown",
      "source": [
        "## ***Contextualizando...***\n",
        "\n",
        "_______________________________________________________________________________\n",
        "\n",
        "Não devemos negar as grandes facilidades que o meio digital nos proporcionou e nos proporciona até hoje. Realizar compras sem sair de casa, ver notícias em tempo real, redes sociais, comunicação e por aí vai. Porém todo esse ambiente fomenta grupos criminosos à praticarem golpes que afetam tanto as instituições como as pessoas comuns. \n",
        "_______________________________________________________________________________\n",
        "\n",
        "<p align=center>\n",
        "<img src=\"https://img.freepik.com/fotos-gratis/alto-angulo-de-cartao-de-credito-com-gancho-para-phishing_23-2148578117.jpg?w=1380&t=st=1672716842~exp=1672717442~hmac=89df6b1502da09a6f002e7b1342f9457a675868d33c432cdec1526959789b018\" width=\"60%\"></p>\n",
        "\n",
        "_______________________________________________________________________________\n",
        "Segundo o [Estadão](https://www.estadao.com.br/economia/golpes-bancarios-geram-prejuizos-no-pais/#:~:text=Existem%20outras%20evid%C3%AAncias%20de%20que,ou%20mais%20de%20176%20mil\n",
        "), um levantamento feito pela **Serasa Experian** mostrou que, em maio de 2021, um total de 331,2 mil brasileiros foram vítimas de algum tipo de fraude, sendo que **53,3%** se concentraram em contas bancárias ou em cartões de crédito (ou mais de 176 mil ocorrências).\n",
        "\n",
        "E o problema parece ser mais grave no Brasil. Em um estudo de fevereiro de 2022, a gigante americana IBM revelou que 31% dos brasileiros afirmaram ter sofrido algum tipo de golpe relacionado a cartões de crédito ao longo do ano anterior. Na Alemanha, por exemplo, esse número foi de 7% e nos Estados Unidos, de 18%.\n",
        "\n",
        "As fraudes bancárias são apenas uma ramificação das áreas que golpistas podem atuar, conforme figura abaixo. Segundo Dornadula & Geetha (2019), fraudadores sempre tentam fazer com que as transações fraudulentas se pareçam legítimas, o que dificulta muito a sua percepção.\n",
        "\n",
        "_______________________________________________________________________________\n",
        "\n",
        "<p align=center>\n",
        "<img src=\"https://ars.els-cdn.com/content/image/1-s2.0-S1084804516300571-gr9.jpg\" width=\"60%\"></p>\n",
        "\n",
        "_______________________________________________________________________________\n",
        "\n",
        "Gigantes da tecnologia, como a Amazon, disponibilizam soluções em machine learning para prevenção dessas fraudes, reduzindo as perdas de receita, evitando danos à marca e fornecendo experiências online sem atritos ao cliente enquanto se adaptam aos padrões de ameaças em constante mudança. De acordo com Domashova & Zabelina (2021), empresas como IBM, FICO E SAS também lideram em disponibilização de sistemas anti-fraude.\n",
        "\n",
        "Aliás, **Machine Learning** nada mais é do que um conjunto de algoritmos que têm a capacidade de aprender algo a partir de dados históricos. De certa forma, adquirem experiência com os dados e realizam certa tarefa pré-definida, sem a necessidade de uma nova programação.\n",
        "_______________________________________________________________________________"
      ],
      "metadata": {
        "id": "9bVbOaFcvzjl"
      }
    },
    {
      "cell_type": "markdown",
      "source": [
        "## ***Sobre os Dados***\n",
        "______________________________________________________________________________\n",
        "\n",
        "O dataset à ser estudado aqui está disponível no [Kaggle](https://www.kaggle.com/mlg-ulb/creditcardfraud) para download. Trata-se de um dataset que contém as transações de cartão de crédito feitas por europeus em setembro de 2013. Foi coletado e analisado durante uma pesquisa de colaboração do grupo *Worldline and Machine Learning* da UBL (Universitá Libre de Bruxelles) para detecção de fraudes.\n",
        "\n",
        "Nele encontram-se apenas variáveis núméricas resultantes da aplicação do PCA. *Principal Component Analysis*, segundo [Casey Cheng](https://towardsdatascience.com/principal-component-analysis-pca-explained-visually-with-zero-math-1cbf392b9e7d), é uma técnica que transforma conjuntos grandes de dados em dimensões menores sem muita perda de informação. É como se diminui-se a variação dos dados em uma escala menor.\n",
        "\n",
        "Outra particularidade do dataset é que, devido à questões de confidencialidade, as *features* foram descaracterizadas, sendo as colunas apresentadas como *V1, V2, ... V28*. Apenas as colunas *Time* e *Amount* se mantiveram originais."
      ],
      "metadata": {
        "id": "nD-HZ_DNr0AB"
      }
    },
    {
      "cell_type": "markdown",
      "source": [
        "### **Dicionário de Variáveis**\n",
        "______________________________________________________\n",
        "\n",
        "Sendo assim, as únicas variáveis disponíveis são:\n",
        "\n",
        "* `Time` : tempo, em segundos, entre cada transação com relação a primeira transação do dataset;\n",
        "\n",
        "* `Amount` : valor da transação;\n",
        "\n",
        "* `Class` : variável que define o tipo de transação. 1 para fraudulenta e 0 para normal."
      ],
      "metadata": {
        "id": "2lAA2-INLYCT"
      }
    },
    {
      "cell_type": "markdown",
      "source": [
        "Para a utilização dos dados, primeiramente importou-se as bibliotecas necessárias. Os dados foram disponibilizados neste [link](https://www.dropbox.com/s/b44o3t3ehmnx2b7/creditcard.csv?dl=1) para facilitar a manipulação.\n",
        "\n",
        "Visualizou-se também as primeiras entradas para uma idéia geral do dataset."
      ],
      "metadata": {
        "id": "4JPygBDFUWT8"
      }
    },
    {
      "cell_type": "code",
      "source": [
        "# Importar as bibliotecas necessárias\n",
        "import pandas as pd\n",
        "\n",
        "# Leitura do arquivo .csv em um dataframe\n",
        "data_bank = pd.read_csv (\"https://www.dropbox.com/s/b44o3t3ehmnx2b7/creditcard.csv?dl=1\")\n",
        "\n",
        "# Visualização das primeiras entradas\n",
        "data_bank.head()"
      ],
      "metadata": {
        "colab": {
          "base_uri": "https://localhost:8080/",
          "height": 300
        },
        "id": "iucqi7V_fO5d",
        "outputId": "fa1b5a3d-7fb6-4511-da8d-85fe8554d931"
      },
      "execution_count": null,
      "outputs": [
        {
          "output_type": "execute_result",
          "data": {
            "text/plain": [
              "   Time        V1        V2        V3        V4        V5        V6        V7  \\\n",
              "0   0.0 -1.359807 -0.072781  2.536347  1.378155 -0.338321  0.462388  0.239599   \n",
              "1   0.0  1.191857  0.266151  0.166480  0.448154  0.060018 -0.082361 -0.078803   \n",
              "2   1.0 -1.358354 -1.340163  1.773209  0.379780 -0.503198  1.800499  0.791461   \n",
              "3   1.0 -0.966272 -0.185226  1.792993 -0.863291 -0.010309  1.247203  0.237609   \n",
              "4   2.0 -1.158233  0.877737  1.548718  0.403034 -0.407193  0.095921  0.592941   \n",
              "\n",
              "         V8        V9  ...       V21       V22       V23       V24       V25  \\\n",
              "0  0.098698  0.363787  ... -0.018307  0.277838 -0.110474  0.066928  0.128539   \n",
              "1  0.085102 -0.255425  ... -0.225775 -0.638672  0.101288 -0.339846  0.167170   \n",
              "2  0.247676 -1.514654  ...  0.247998  0.771679  0.909412 -0.689281 -0.327642   \n",
              "3  0.377436 -1.387024  ... -0.108300  0.005274 -0.190321 -1.175575  0.647376   \n",
              "4 -0.270533  0.817739  ... -0.009431  0.798278 -0.137458  0.141267 -0.206010   \n",
              "\n",
              "        V26       V27       V28  Amount  Class  \n",
              "0 -0.189115  0.133558 -0.021053  149.62      0  \n",
              "1  0.125895 -0.008983  0.014724    2.69      0  \n",
              "2 -0.139097 -0.055353 -0.059752  378.66      0  \n",
              "3 -0.221929  0.062723  0.061458  123.50      0  \n",
              "4  0.502292  0.219422  0.215153   69.99      0  \n",
              "\n",
              "[5 rows x 31 columns]"
            ],
            "text/html": [
              "\n",
              "  <div id=\"df-add728df-f3bb-4e02-bc8d-37d4012d612b\">\n",
              "    <div class=\"colab-df-container\">\n",
              "      <div>\n",
              "<style scoped>\n",
              "    .dataframe tbody tr th:only-of-type {\n",
              "        vertical-align: middle;\n",
              "    }\n",
              "\n",
              "    .dataframe tbody tr th {\n",
              "        vertical-align: top;\n",
              "    }\n",
              "\n",
              "    .dataframe thead th {\n",
              "        text-align: right;\n",
              "    }\n",
              "</style>\n",
              "<table border=\"1\" class=\"dataframe\">\n",
              "  <thead>\n",
              "    <tr style=\"text-align: right;\">\n",
              "      <th></th>\n",
              "      <th>Time</th>\n",
              "      <th>V1</th>\n",
              "      <th>V2</th>\n",
              "      <th>V3</th>\n",
              "      <th>V4</th>\n",
              "      <th>V5</th>\n",
              "      <th>V6</th>\n",
              "      <th>V7</th>\n",
              "      <th>V8</th>\n",
              "      <th>V9</th>\n",
              "      <th>...</th>\n",
              "      <th>V21</th>\n",
              "      <th>V22</th>\n",
              "      <th>V23</th>\n",
              "      <th>V24</th>\n",
              "      <th>V25</th>\n",
              "      <th>V26</th>\n",
              "      <th>V27</th>\n",
              "      <th>V28</th>\n",
              "      <th>Amount</th>\n",
              "      <th>Class</th>\n",
              "    </tr>\n",
              "  </thead>\n",
              "  <tbody>\n",
              "    <tr>\n",
              "      <th>0</th>\n",
              "      <td>0.0</td>\n",
              "      <td>-1.359807</td>\n",
              "      <td>-0.072781</td>\n",
              "      <td>2.536347</td>\n",
              "      <td>1.378155</td>\n",
              "      <td>-0.338321</td>\n",
              "      <td>0.462388</td>\n",
              "      <td>0.239599</td>\n",
              "      <td>0.098698</td>\n",
              "      <td>0.363787</td>\n",
              "      <td>...</td>\n",
              "      <td>-0.018307</td>\n",
              "      <td>0.277838</td>\n",
              "      <td>-0.110474</td>\n",
              "      <td>0.066928</td>\n",
              "      <td>0.128539</td>\n",
              "      <td>-0.189115</td>\n",
              "      <td>0.133558</td>\n",
              "      <td>-0.021053</td>\n",
              "      <td>149.62</td>\n",
              "      <td>0</td>\n",
              "    </tr>\n",
              "    <tr>\n",
              "      <th>1</th>\n",
              "      <td>0.0</td>\n",
              "      <td>1.191857</td>\n",
              "      <td>0.266151</td>\n",
              "      <td>0.166480</td>\n",
              "      <td>0.448154</td>\n",
              "      <td>0.060018</td>\n",
              "      <td>-0.082361</td>\n",
              "      <td>-0.078803</td>\n",
              "      <td>0.085102</td>\n",
              "      <td>-0.255425</td>\n",
              "      <td>...</td>\n",
              "      <td>-0.225775</td>\n",
              "      <td>-0.638672</td>\n",
              "      <td>0.101288</td>\n",
              "      <td>-0.339846</td>\n",
              "      <td>0.167170</td>\n",
              "      <td>0.125895</td>\n",
              "      <td>-0.008983</td>\n",
              "      <td>0.014724</td>\n",
              "      <td>2.69</td>\n",
              "      <td>0</td>\n",
              "    </tr>\n",
              "    <tr>\n",
              "      <th>2</th>\n",
              "      <td>1.0</td>\n",
              "      <td>-1.358354</td>\n",
              "      <td>-1.340163</td>\n",
              "      <td>1.773209</td>\n",
              "      <td>0.379780</td>\n",
              "      <td>-0.503198</td>\n",
              "      <td>1.800499</td>\n",
              "      <td>0.791461</td>\n",
              "      <td>0.247676</td>\n",
              "      <td>-1.514654</td>\n",
              "      <td>...</td>\n",
              "      <td>0.247998</td>\n",
              "      <td>0.771679</td>\n",
              "      <td>0.909412</td>\n",
              "      <td>-0.689281</td>\n",
              "      <td>-0.327642</td>\n",
              "      <td>-0.139097</td>\n",
              "      <td>-0.055353</td>\n",
              "      <td>-0.059752</td>\n",
              "      <td>378.66</td>\n",
              "      <td>0</td>\n",
              "    </tr>\n",
              "    <tr>\n",
              "      <th>3</th>\n",
              "      <td>1.0</td>\n",
              "      <td>-0.966272</td>\n",
              "      <td>-0.185226</td>\n",
              "      <td>1.792993</td>\n",
              "      <td>-0.863291</td>\n",
              "      <td>-0.010309</td>\n",
              "      <td>1.247203</td>\n",
              "      <td>0.237609</td>\n",
              "      <td>0.377436</td>\n",
              "      <td>-1.387024</td>\n",
              "      <td>...</td>\n",
              "      <td>-0.108300</td>\n",
              "      <td>0.005274</td>\n",
              "      <td>-0.190321</td>\n",
              "      <td>-1.175575</td>\n",
              "      <td>0.647376</td>\n",
              "      <td>-0.221929</td>\n",
              "      <td>0.062723</td>\n",
              "      <td>0.061458</td>\n",
              "      <td>123.50</td>\n",
              "      <td>0</td>\n",
              "    </tr>\n",
              "    <tr>\n",
              "      <th>4</th>\n",
              "      <td>2.0</td>\n",
              "      <td>-1.158233</td>\n",
              "      <td>0.877737</td>\n",
              "      <td>1.548718</td>\n",
              "      <td>0.403034</td>\n",
              "      <td>-0.407193</td>\n",
              "      <td>0.095921</td>\n",
              "      <td>0.592941</td>\n",
              "      <td>-0.270533</td>\n",
              "      <td>0.817739</td>\n",
              "      <td>...</td>\n",
              "      <td>-0.009431</td>\n",
              "      <td>0.798278</td>\n",
              "      <td>-0.137458</td>\n",
              "      <td>0.141267</td>\n",
              "      <td>-0.206010</td>\n",
              "      <td>0.502292</td>\n",
              "      <td>0.219422</td>\n",
              "      <td>0.215153</td>\n",
              "      <td>69.99</td>\n",
              "      <td>0</td>\n",
              "    </tr>\n",
              "  </tbody>\n",
              "</table>\n",
              "<p>5 rows × 31 columns</p>\n",
              "</div>\n",
              "      <button class=\"colab-df-convert\" onclick=\"convertToInteractive('df-add728df-f3bb-4e02-bc8d-37d4012d612b')\"\n",
              "              title=\"Convert this dataframe to an interactive table.\"\n",
              "              style=\"display:none;\">\n",
              "        \n",
              "  <svg xmlns=\"http://www.w3.org/2000/svg\" height=\"24px\"viewBox=\"0 0 24 24\"\n",
              "       width=\"24px\">\n",
              "    <path d=\"M0 0h24v24H0V0z\" fill=\"none\"/>\n",
              "    <path d=\"M18.56 5.44l.94 2.06.94-2.06 2.06-.94-2.06-.94-.94-2.06-.94 2.06-2.06.94zm-11 1L8.5 8.5l.94-2.06 2.06-.94-2.06-.94L8.5 2.5l-.94 2.06-2.06.94zm10 10l.94 2.06.94-2.06 2.06-.94-2.06-.94-.94-2.06-.94 2.06-2.06.94z\"/><path d=\"M17.41 7.96l-1.37-1.37c-.4-.4-.92-.59-1.43-.59-.52 0-1.04.2-1.43.59L10.3 9.45l-7.72 7.72c-.78.78-.78 2.05 0 2.83L4 21.41c.39.39.9.59 1.41.59.51 0 1.02-.2 1.41-.59l7.78-7.78 2.81-2.81c.8-.78.8-2.07 0-2.86zM5.41 20L4 18.59l7.72-7.72 1.47 1.35L5.41 20z\"/>\n",
              "  </svg>\n",
              "      </button>\n",
              "      \n",
              "  <style>\n",
              "    .colab-df-container {\n",
              "      display:flex;\n",
              "      flex-wrap:wrap;\n",
              "      gap: 12px;\n",
              "    }\n",
              "\n",
              "    .colab-df-convert {\n",
              "      background-color: #E8F0FE;\n",
              "      border: none;\n",
              "      border-radius: 50%;\n",
              "      cursor: pointer;\n",
              "      display: none;\n",
              "      fill: #1967D2;\n",
              "      height: 32px;\n",
              "      padding: 0 0 0 0;\n",
              "      width: 32px;\n",
              "    }\n",
              "\n",
              "    .colab-df-convert:hover {\n",
              "      background-color: #E2EBFA;\n",
              "      box-shadow: 0px 1px 2px rgba(60, 64, 67, 0.3), 0px 1px 3px 1px rgba(60, 64, 67, 0.15);\n",
              "      fill: #174EA6;\n",
              "    }\n",
              "\n",
              "    [theme=dark] .colab-df-convert {\n",
              "      background-color: #3B4455;\n",
              "      fill: #D2E3FC;\n",
              "    }\n",
              "\n",
              "    [theme=dark] .colab-df-convert:hover {\n",
              "      background-color: #434B5C;\n",
              "      box-shadow: 0px 1px 3px 1px rgba(0, 0, 0, 0.15);\n",
              "      filter: drop-shadow(0px 1px 2px rgba(0, 0, 0, 0.3));\n",
              "      fill: #FFFFFF;\n",
              "    }\n",
              "  </style>\n",
              "\n",
              "      <script>\n",
              "        const buttonEl =\n",
              "          document.querySelector('#df-add728df-f3bb-4e02-bc8d-37d4012d612b button.colab-df-convert');\n",
              "        buttonEl.style.display =\n",
              "          google.colab.kernel.accessAllowed ? 'block' : 'none';\n",
              "\n",
              "        async function convertToInteractive(key) {\n",
              "          const element = document.querySelector('#df-add728df-f3bb-4e02-bc8d-37d4012d612b');\n",
              "          const dataTable =\n",
              "            await google.colab.kernel.invokeFunction('convertToInteractive',\n",
              "                                                     [key], {});\n",
              "          if (!dataTable) return;\n",
              "\n",
              "          const docLinkHtml = 'Like what you see? Visit the ' +\n",
              "            '<a target=\"_blank\" href=https://colab.research.google.com/notebooks/data_table.ipynb>data table notebook</a>'\n",
              "            + ' to learn more about interactive tables.';\n",
              "          element.innerHTML = '';\n",
              "          dataTable['output_type'] = 'display_data';\n",
              "          await google.colab.output.renderOutput(dataTable, element);\n",
              "          const docLink = document.createElement('div');\n",
              "          docLink.innerHTML = docLinkHtml;\n",
              "          element.appendChild(docLink);\n",
              "        }\n",
              "      </script>\n",
              "    </div>\n",
              "  </div>\n",
              "  "
            ]
          },
          "metadata": {},
          "execution_count": 76
        }
      ]
    },
    {
      "cell_type": "markdown",
      "source": [
        "## ***Análise Exploratória***\n",
        "______________________________________________________\n",
        "\n"
      ],
      "metadata": {
        "id": "RiESBvsthu0O"
      }
    },
    {
      "cell_type": "markdown",
      "source": [
        "### **O primeiro contato**\n",
        "______________________________________________________\n",
        "\n",
        "É de extrema importância verificarmos nesse primeiro contato o que o dataset nos informa. Iremos utilizar duas funções que mostram informações gerais do conjunto: *info()* e *describe()*."
      ],
      "metadata": {
        "id": "g_G3GHe1h_-o"
      }
    },
    {
      "cell_type": "code",
      "source": [
        "# Obtendo descrição das variáveis\n",
        "data_bank.info()"
      ],
      "metadata": {
        "colab": {
          "base_uri": "https://localhost:8080/"
        },
        "id": "ELy75dOjlztH",
        "outputId": "7b9c89fc-5c19-4577-fdef-eb6202aad6a2"
      },
      "execution_count": null,
      "outputs": [
        {
          "output_type": "stream",
          "name": "stdout",
          "text": [
            "<class 'pandas.core.frame.DataFrame'>\n",
            "RangeIndex: 284807 entries, 0 to 284806\n",
            "Data columns (total 31 columns):\n",
            " #   Column  Non-Null Count   Dtype  \n",
            "---  ------  --------------   -----  \n",
            " 0   Time    284807 non-null  float64\n",
            " 1   V1      284807 non-null  float64\n",
            " 2   V2      284807 non-null  float64\n",
            " 3   V3      284807 non-null  float64\n",
            " 4   V4      284807 non-null  float64\n",
            " 5   V5      284807 non-null  float64\n",
            " 6   V6      284807 non-null  float64\n",
            " 7   V7      284807 non-null  float64\n",
            " 8   V8      284807 non-null  float64\n",
            " 9   V9      284807 non-null  float64\n",
            " 10  V10     284807 non-null  float64\n",
            " 11  V11     284807 non-null  float64\n",
            " 12  V12     284807 non-null  float64\n",
            " 13  V13     284807 non-null  float64\n",
            " 14  V14     284807 non-null  float64\n",
            " 15  V15     284807 non-null  float64\n",
            " 16  V16     284807 non-null  float64\n",
            " 17  V17     284807 non-null  float64\n",
            " 18  V18     284807 non-null  float64\n",
            " 19  V19     284807 non-null  float64\n",
            " 20  V20     284807 non-null  float64\n",
            " 21  V21     284807 non-null  float64\n",
            " 22  V22     284807 non-null  float64\n",
            " 23  V23     284807 non-null  float64\n",
            " 24  V24     284807 non-null  float64\n",
            " 25  V25     284807 non-null  float64\n",
            " 26  V26     284807 non-null  float64\n",
            " 27  V27     284807 non-null  float64\n",
            " 28  V28     284807 non-null  float64\n",
            " 29  Amount  284807 non-null  float64\n",
            " 30  Class   284807 non-null  int64  \n",
            "dtypes: float64(30), int64(1)\n",
            "memory usage: 67.4 MB\n"
          ]
        }
      ]
    },
    {
      "cell_type": "markdown",
      "source": [
        "Observa-se que a maioria dos valores são *floats* e apenas uma coluna possui dados *inteiros*. Outro ponto é que não há valores ausentes. Um bom sinal!"
      ],
      "metadata": {
        "id": "DfNr2eRVmMQl"
      }
    },
    {
      "cell_type": "code",
      "source": [
        "# Verificação da porcentagem de dados ausentes\n",
        "data_bank.isnull().sum() / data_bank.shape[0]"
      ],
      "metadata": {
        "colab": {
          "base_uri": "https://localhost:8080/"
        },
        "id": "r0-4JhGOz2t2",
        "outputId": "b19f53ba-3397-4b04-cec8-c35b21a70537"
      },
      "execution_count": null,
      "outputs": [
        {
          "output_type": "execute_result",
          "data": {
            "text/plain": [
              "Time      0.0\n",
              "V1        0.0\n",
              "V2        0.0\n",
              "V3        0.0\n",
              "V4        0.0\n",
              "V5        0.0\n",
              "V6        0.0\n",
              "V7        0.0\n",
              "V8        0.0\n",
              "V9        0.0\n",
              "V10       0.0\n",
              "V11       0.0\n",
              "V12       0.0\n",
              "V13       0.0\n",
              "V14       0.0\n",
              "V15       0.0\n",
              "V16       0.0\n",
              "V17       0.0\n",
              "V18       0.0\n",
              "V19       0.0\n",
              "V20       0.0\n",
              "V21       0.0\n",
              "V22       0.0\n",
              "V23       0.0\n",
              "V24       0.0\n",
              "V25       0.0\n",
              "V26       0.0\n",
              "V27       0.0\n",
              "V28       0.0\n",
              "Amount    0.0\n",
              "Class     0.0\n",
              "dtype: float64"
            ]
          },
          "metadata": {},
          "execution_count": 78
        }
      ]
    },
    {
      "cell_type": "code",
      "source": [
        "# Obtendo resumo dos atributos numéricos\n",
        "data_bank.describe()"
      ],
      "metadata": {
        "colab": {
          "base_uri": "https://localhost:8080/",
          "height": 394
        },
        "id": "JMzqyqyJm_Od",
        "outputId": "824f0ece-5d99-4ff4-a26a-959dd80ec6a6"
      },
      "execution_count": null,
      "outputs": [
        {
          "output_type": "execute_result",
          "data": {
            "text/plain": [
              "                Time            V1            V2            V3            V4  \\\n",
              "count  284807.000000  2.848070e+05  2.848070e+05  2.848070e+05  2.848070e+05   \n",
              "mean    94813.859575  1.168375e-15  3.416908e-16 -1.379537e-15  2.074095e-15   \n",
              "std     47488.145955  1.958696e+00  1.651309e+00  1.516255e+00  1.415869e+00   \n",
              "min         0.000000 -5.640751e+01 -7.271573e+01 -4.832559e+01 -5.683171e+00   \n",
              "25%     54201.500000 -9.203734e-01 -5.985499e-01 -8.903648e-01 -8.486401e-01   \n",
              "50%     84692.000000  1.810880e-02  6.548556e-02  1.798463e-01 -1.984653e-02   \n",
              "75%    139320.500000  1.315642e+00  8.037239e-01  1.027196e+00  7.433413e-01   \n",
              "max    172792.000000  2.454930e+00  2.205773e+01  9.382558e+00  1.687534e+01   \n",
              "\n",
              "                 V5            V6            V7            V8            V9  \\\n",
              "count  2.848070e+05  2.848070e+05  2.848070e+05  2.848070e+05  2.848070e+05   \n",
              "mean   9.604066e-16  1.487313e-15 -5.556467e-16  1.213481e-16 -2.406331e-15   \n",
              "std    1.380247e+00  1.332271e+00  1.237094e+00  1.194353e+00  1.098632e+00   \n",
              "min   -1.137433e+02 -2.616051e+01 -4.355724e+01 -7.321672e+01 -1.343407e+01   \n",
              "25%   -6.915971e-01 -7.682956e-01 -5.540759e-01 -2.086297e-01 -6.430976e-01   \n",
              "50%   -5.433583e-02 -2.741871e-01  4.010308e-02  2.235804e-02 -5.142873e-02   \n",
              "75%    6.119264e-01  3.985649e-01  5.704361e-01  3.273459e-01  5.971390e-01   \n",
              "max    3.480167e+01  7.330163e+01  1.205895e+02  2.000721e+01  1.559499e+01   \n",
              "\n",
              "       ...           V21           V22           V23           V24  \\\n",
              "count  ...  2.848070e+05  2.848070e+05  2.848070e+05  2.848070e+05   \n",
              "mean   ...  1.654067e-16 -3.568593e-16  2.578648e-16  4.473266e-15   \n",
              "std    ...  7.345240e-01  7.257016e-01  6.244603e-01  6.056471e-01   \n",
              "min    ... -3.483038e+01 -1.093314e+01 -4.480774e+01 -2.836627e+00   \n",
              "25%    ... -2.283949e-01 -5.423504e-01 -1.618463e-01 -3.545861e-01   \n",
              "50%    ... -2.945017e-02  6.781943e-03 -1.119293e-02  4.097606e-02   \n",
              "75%    ...  1.863772e-01  5.285536e-01  1.476421e-01  4.395266e-01   \n",
              "max    ...  2.720284e+01  1.050309e+01  2.252841e+01  4.584549e+00   \n",
              "\n",
              "                V25           V26           V27           V28         Amount  \\\n",
              "count  2.848070e+05  2.848070e+05  2.848070e+05  2.848070e+05  284807.000000   \n",
              "mean   5.340915e-16  1.683437e-15 -3.660091e-16 -1.227390e-16      88.349619   \n",
              "std    5.212781e-01  4.822270e-01  4.036325e-01  3.300833e-01     250.120109   \n",
              "min   -1.029540e+01 -2.604551e+00 -2.256568e+01 -1.543008e+01       0.000000   \n",
              "25%   -3.171451e-01 -3.269839e-01 -7.083953e-02 -5.295979e-02       5.600000   \n",
              "50%    1.659350e-02 -5.213911e-02  1.342146e-03  1.124383e-02      22.000000   \n",
              "75%    3.507156e-01  2.409522e-01  9.104512e-02  7.827995e-02      77.165000   \n",
              "max    7.519589e+00  3.517346e+00  3.161220e+01  3.384781e+01   25691.160000   \n",
              "\n",
              "               Class  \n",
              "count  284807.000000  \n",
              "mean        0.001727  \n",
              "std         0.041527  \n",
              "min         0.000000  \n",
              "25%         0.000000  \n",
              "50%         0.000000  \n",
              "75%         0.000000  \n",
              "max         1.000000  \n",
              "\n",
              "[8 rows x 31 columns]"
            ],
            "text/html": [
              "\n",
              "  <div id=\"df-516eeb11-8ab8-4d3b-8ac1-6be424eda9f0\">\n",
              "    <div class=\"colab-df-container\">\n",
              "      <div>\n",
              "<style scoped>\n",
              "    .dataframe tbody tr th:only-of-type {\n",
              "        vertical-align: middle;\n",
              "    }\n",
              "\n",
              "    .dataframe tbody tr th {\n",
              "        vertical-align: top;\n",
              "    }\n",
              "\n",
              "    .dataframe thead th {\n",
              "        text-align: right;\n",
              "    }\n",
              "</style>\n",
              "<table border=\"1\" class=\"dataframe\">\n",
              "  <thead>\n",
              "    <tr style=\"text-align: right;\">\n",
              "      <th></th>\n",
              "      <th>Time</th>\n",
              "      <th>V1</th>\n",
              "      <th>V2</th>\n",
              "      <th>V3</th>\n",
              "      <th>V4</th>\n",
              "      <th>V5</th>\n",
              "      <th>V6</th>\n",
              "      <th>V7</th>\n",
              "      <th>V8</th>\n",
              "      <th>V9</th>\n",
              "      <th>...</th>\n",
              "      <th>V21</th>\n",
              "      <th>V22</th>\n",
              "      <th>V23</th>\n",
              "      <th>V24</th>\n",
              "      <th>V25</th>\n",
              "      <th>V26</th>\n",
              "      <th>V27</th>\n",
              "      <th>V28</th>\n",
              "      <th>Amount</th>\n",
              "      <th>Class</th>\n",
              "    </tr>\n",
              "  </thead>\n",
              "  <tbody>\n",
              "    <tr>\n",
              "      <th>count</th>\n",
              "      <td>284807.000000</td>\n",
              "      <td>2.848070e+05</td>\n",
              "      <td>2.848070e+05</td>\n",
              "      <td>2.848070e+05</td>\n",
              "      <td>2.848070e+05</td>\n",
              "      <td>2.848070e+05</td>\n",
              "      <td>2.848070e+05</td>\n",
              "      <td>2.848070e+05</td>\n",
              "      <td>2.848070e+05</td>\n",
              "      <td>2.848070e+05</td>\n",
              "      <td>...</td>\n",
              "      <td>2.848070e+05</td>\n",
              "      <td>2.848070e+05</td>\n",
              "      <td>2.848070e+05</td>\n",
              "      <td>2.848070e+05</td>\n",
              "      <td>2.848070e+05</td>\n",
              "      <td>2.848070e+05</td>\n",
              "      <td>2.848070e+05</td>\n",
              "      <td>2.848070e+05</td>\n",
              "      <td>284807.000000</td>\n",
              "      <td>284807.000000</td>\n",
              "    </tr>\n",
              "    <tr>\n",
              "      <th>mean</th>\n",
              "      <td>94813.859575</td>\n",
              "      <td>1.168375e-15</td>\n",
              "      <td>3.416908e-16</td>\n",
              "      <td>-1.379537e-15</td>\n",
              "      <td>2.074095e-15</td>\n",
              "      <td>9.604066e-16</td>\n",
              "      <td>1.487313e-15</td>\n",
              "      <td>-5.556467e-16</td>\n",
              "      <td>1.213481e-16</td>\n",
              "      <td>-2.406331e-15</td>\n",
              "      <td>...</td>\n",
              "      <td>1.654067e-16</td>\n",
              "      <td>-3.568593e-16</td>\n",
              "      <td>2.578648e-16</td>\n",
              "      <td>4.473266e-15</td>\n",
              "      <td>5.340915e-16</td>\n",
              "      <td>1.683437e-15</td>\n",
              "      <td>-3.660091e-16</td>\n",
              "      <td>-1.227390e-16</td>\n",
              "      <td>88.349619</td>\n",
              "      <td>0.001727</td>\n",
              "    </tr>\n",
              "    <tr>\n",
              "      <th>std</th>\n",
              "      <td>47488.145955</td>\n",
              "      <td>1.958696e+00</td>\n",
              "      <td>1.651309e+00</td>\n",
              "      <td>1.516255e+00</td>\n",
              "      <td>1.415869e+00</td>\n",
              "      <td>1.380247e+00</td>\n",
              "      <td>1.332271e+00</td>\n",
              "      <td>1.237094e+00</td>\n",
              "      <td>1.194353e+00</td>\n",
              "      <td>1.098632e+00</td>\n",
              "      <td>...</td>\n",
              "      <td>7.345240e-01</td>\n",
              "      <td>7.257016e-01</td>\n",
              "      <td>6.244603e-01</td>\n",
              "      <td>6.056471e-01</td>\n",
              "      <td>5.212781e-01</td>\n",
              "      <td>4.822270e-01</td>\n",
              "      <td>4.036325e-01</td>\n",
              "      <td>3.300833e-01</td>\n",
              "      <td>250.120109</td>\n",
              "      <td>0.041527</td>\n",
              "    </tr>\n",
              "    <tr>\n",
              "      <th>min</th>\n",
              "      <td>0.000000</td>\n",
              "      <td>-5.640751e+01</td>\n",
              "      <td>-7.271573e+01</td>\n",
              "      <td>-4.832559e+01</td>\n",
              "      <td>-5.683171e+00</td>\n",
              "      <td>-1.137433e+02</td>\n",
              "      <td>-2.616051e+01</td>\n",
              "      <td>-4.355724e+01</td>\n",
              "      <td>-7.321672e+01</td>\n",
              "      <td>-1.343407e+01</td>\n",
              "      <td>...</td>\n",
              "      <td>-3.483038e+01</td>\n",
              "      <td>-1.093314e+01</td>\n",
              "      <td>-4.480774e+01</td>\n",
              "      <td>-2.836627e+00</td>\n",
              "      <td>-1.029540e+01</td>\n",
              "      <td>-2.604551e+00</td>\n",
              "      <td>-2.256568e+01</td>\n",
              "      <td>-1.543008e+01</td>\n",
              "      <td>0.000000</td>\n",
              "      <td>0.000000</td>\n",
              "    </tr>\n",
              "    <tr>\n",
              "      <th>25%</th>\n",
              "      <td>54201.500000</td>\n",
              "      <td>-9.203734e-01</td>\n",
              "      <td>-5.985499e-01</td>\n",
              "      <td>-8.903648e-01</td>\n",
              "      <td>-8.486401e-01</td>\n",
              "      <td>-6.915971e-01</td>\n",
              "      <td>-7.682956e-01</td>\n",
              "      <td>-5.540759e-01</td>\n",
              "      <td>-2.086297e-01</td>\n",
              "      <td>-6.430976e-01</td>\n",
              "      <td>...</td>\n",
              "      <td>-2.283949e-01</td>\n",
              "      <td>-5.423504e-01</td>\n",
              "      <td>-1.618463e-01</td>\n",
              "      <td>-3.545861e-01</td>\n",
              "      <td>-3.171451e-01</td>\n",
              "      <td>-3.269839e-01</td>\n",
              "      <td>-7.083953e-02</td>\n",
              "      <td>-5.295979e-02</td>\n",
              "      <td>5.600000</td>\n",
              "      <td>0.000000</td>\n",
              "    </tr>\n",
              "    <tr>\n",
              "      <th>50%</th>\n",
              "      <td>84692.000000</td>\n",
              "      <td>1.810880e-02</td>\n",
              "      <td>6.548556e-02</td>\n",
              "      <td>1.798463e-01</td>\n",
              "      <td>-1.984653e-02</td>\n",
              "      <td>-5.433583e-02</td>\n",
              "      <td>-2.741871e-01</td>\n",
              "      <td>4.010308e-02</td>\n",
              "      <td>2.235804e-02</td>\n",
              "      <td>-5.142873e-02</td>\n",
              "      <td>...</td>\n",
              "      <td>-2.945017e-02</td>\n",
              "      <td>6.781943e-03</td>\n",
              "      <td>-1.119293e-02</td>\n",
              "      <td>4.097606e-02</td>\n",
              "      <td>1.659350e-02</td>\n",
              "      <td>-5.213911e-02</td>\n",
              "      <td>1.342146e-03</td>\n",
              "      <td>1.124383e-02</td>\n",
              "      <td>22.000000</td>\n",
              "      <td>0.000000</td>\n",
              "    </tr>\n",
              "    <tr>\n",
              "      <th>75%</th>\n",
              "      <td>139320.500000</td>\n",
              "      <td>1.315642e+00</td>\n",
              "      <td>8.037239e-01</td>\n",
              "      <td>1.027196e+00</td>\n",
              "      <td>7.433413e-01</td>\n",
              "      <td>6.119264e-01</td>\n",
              "      <td>3.985649e-01</td>\n",
              "      <td>5.704361e-01</td>\n",
              "      <td>3.273459e-01</td>\n",
              "      <td>5.971390e-01</td>\n",
              "      <td>...</td>\n",
              "      <td>1.863772e-01</td>\n",
              "      <td>5.285536e-01</td>\n",
              "      <td>1.476421e-01</td>\n",
              "      <td>4.395266e-01</td>\n",
              "      <td>3.507156e-01</td>\n",
              "      <td>2.409522e-01</td>\n",
              "      <td>9.104512e-02</td>\n",
              "      <td>7.827995e-02</td>\n",
              "      <td>77.165000</td>\n",
              "      <td>0.000000</td>\n",
              "    </tr>\n",
              "    <tr>\n",
              "      <th>max</th>\n",
              "      <td>172792.000000</td>\n",
              "      <td>2.454930e+00</td>\n",
              "      <td>2.205773e+01</td>\n",
              "      <td>9.382558e+00</td>\n",
              "      <td>1.687534e+01</td>\n",
              "      <td>3.480167e+01</td>\n",
              "      <td>7.330163e+01</td>\n",
              "      <td>1.205895e+02</td>\n",
              "      <td>2.000721e+01</td>\n",
              "      <td>1.559499e+01</td>\n",
              "      <td>...</td>\n",
              "      <td>2.720284e+01</td>\n",
              "      <td>1.050309e+01</td>\n",
              "      <td>2.252841e+01</td>\n",
              "      <td>4.584549e+00</td>\n",
              "      <td>7.519589e+00</td>\n",
              "      <td>3.517346e+00</td>\n",
              "      <td>3.161220e+01</td>\n",
              "      <td>3.384781e+01</td>\n",
              "      <td>25691.160000</td>\n",
              "      <td>1.000000</td>\n",
              "    </tr>\n",
              "  </tbody>\n",
              "</table>\n",
              "<p>8 rows × 31 columns</p>\n",
              "</div>\n",
              "      <button class=\"colab-df-convert\" onclick=\"convertToInteractive('df-516eeb11-8ab8-4d3b-8ac1-6be424eda9f0')\"\n",
              "              title=\"Convert this dataframe to an interactive table.\"\n",
              "              style=\"display:none;\">\n",
              "        \n",
              "  <svg xmlns=\"http://www.w3.org/2000/svg\" height=\"24px\"viewBox=\"0 0 24 24\"\n",
              "       width=\"24px\">\n",
              "    <path d=\"M0 0h24v24H0V0z\" fill=\"none\"/>\n",
              "    <path d=\"M18.56 5.44l.94 2.06.94-2.06 2.06-.94-2.06-.94-.94-2.06-.94 2.06-2.06.94zm-11 1L8.5 8.5l.94-2.06 2.06-.94-2.06-.94L8.5 2.5l-.94 2.06-2.06.94zm10 10l.94 2.06.94-2.06 2.06-.94-2.06-.94-.94-2.06-.94 2.06-2.06.94z\"/><path d=\"M17.41 7.96l-1.37-1.37c-.4-.4-.92-.59-1.43-.59-.52 0-1.04.2-1.43.59L10.3 9.45l-7.72 7.72c-.78.78-.78 2.05 0 2.83L4 21.41c.39.39.9.59 1.41.59.51 0 1.02-.2 1.41-.59l7.78-7.78 2.81-2.81c.8-.78.8-2.07 0-2.86zM5.41 20L4 18.59l7.72-7.72 1.47 1.35L5.41 20z\"/>\n",
              "  </svg>\n",
              "      </button>\n",
              "      \n",
              "  <style>\n",
              "    .colab-df-container {\n",
              "      display:flex;\n",
              "      flex-wrap:wrap;\n",
              "      gap: 12px;\n",
              "    }\n",
              "\n",
              "    .colab-df-convert {\n",
              "      background-color: #E8F0FE;\n",
              "      border: none;\n",
              "      border-radius: 50%;\n",
              "      cursor: pointer;\n",
              "      display: none;\n",
              "      fill: #1967D2;\n",
              "      height: 32px;\n",
              "      padding: 0 0 0 0;\n",
              "      width: 32px;\n",
              "    }\n",
              "\n",
              "    .colab-df-convert:hover {\n",
              "      background-color: #E2EBFA;\n",
              "      box-shadow: 0px 1px 2px rgba(60, 64, 67, 0.3), 0px 1px 3px 1px rgba(60, 64, 67, 0.15);\n",
              "      fill: #174EA6;\n",
              "    }\n",
              "\n",
              "    [theme=dark] .colab-df-convert {\n",
              "      background-color: #3B4455;\n",
              "      fill: #D2E3FC;\n",
              "    }\n",
              "\n",
              "    [theme=dark] .colab-df-convert:hover {\n",
              "      background-color: #434B5C;\n",
              "      box-shadow: 0px 1px 3px 1px rgba(0, 0, 0, 0.15);\n",
              "      filter: drop-shadow(0px 1px 2px rgba(0, 0, 0, 0.3));\n",
              "      fill: #FFFFFF;\n",
              "    }\n",
              "  </style>\n",
              "\n",
              "      <script>\n",
              "        const buttonEl =\n",
              "          document.querySelector('#df-516eeb11-8ab8-4d3b-8ac1-6be424eda9f0 button.colab-df-convert');\n",
              "        buttonEl.style.display =\n",
              "          google.colab.kernel.accessAllowed ? 'block' : 'none';\n",
              "\n",
              "        async function convertToInteractive(key) {\n",
              "          const element = document.querySelector('#df-516eeb11-8ab8-4d3b-8ac1-6be424eda9f0');\n",
              "          const dataTable =\n",
              "            await google.colab.kernel.invokeFunction('convertToInteractive',\n",
              "                                                     [key], {});\n",
              "          if (!dataTable) return;\n",
              "\n",
              "          const docLinkHtml = 'Like what you see? Visit the ' +\n",
              "            '<a target=\"_blank\" href=https://colab.research.google.com/notebooks/data_table.ipynb>data table notebook</a>'\n",
              "            + ' to learn more about interactive tables.';\n",
              "          element.innerHTML = '';\n",
              "          dataTable['output_type'] = 'display_data';\n",
              "          await google.colab.output.renderOutput(dataTable, element);\n",
              "          const docLink = document.createElement('div');\n",
              "          docLink.innerHTML = docLinkHtml;\n",
              "          element.appendChild(docLink);\n",
              "        }\n",
              "      </script>\n",
              "    </div>\n",
              "  </div>\n",
              "  "
            ]
          },
          "metadata": {},
          "execution_count": 79
        }
      ]
    },
    {
      "cell_type": "markdown",
      "source": [
        "Com 284807 transações, tem-se apenas 492 lançamentos classificados como fraude, segundo a própria descrição do dataset no site. Vamos verificar esses valores."
      ],
      "metadata": {
        "id": "1ulw0jknoqR8"
      }
    },
    {
      "cell_type": "code",
      "source": [
        "# Contagem das classificações\n",
        "data_bank.Class.value_counts()"
      ],
      "metadata": {
        "colab": {
          "base_uri": "https://localhost:8080/"
        },
        "id": "JxrQt85hpIMI",
        "outputId": "a9def844-61d6-463a-abae-8c7b0cb55f4e"
      },
      "execution_count": null,
      "outputs": [
        {
          "output_type": "execute_result",
          "data": {
            "text/plain": [
              "0    284315\n",
              "1       492\n",
              "Name: Class, dtype: int64"
            ]
          },
          "metadata": {},
          "execution_count": 80
        }
      ]
    },
    {
      "cell_type": "code",
      "source": [
        "# Importação de bibliotecas necessárias\n",
        "import matplotlib.pyplot as plt\n",
        "import seaborn as sns\n",
        "\n",
        "# Configuração do estilo de plotagem\n",
        "sns.set_style('dark')"
      ],
      "metadata": {
        "id": "XQrTP-Ell5Br"
      },
      "execution_count": null,
      "outputs": []
    },
    {
      "cell_type": "code",
      "source": [
        "# Configuração para plotagem das frequências de fraudes\n",
        "fig, ax = plt.subplots()\n",
        "\n",
        "data_bank.Class.value_counts().plot(kind='bar', ax=ax)\n",
        "\n",
        "ax.set_title (\"Distribuição das Classes\")\n",
        "\n",
        "plt.show()"
      ],
      "metadata": {
        "colab": {
          "base_uri": "https://localhost:8080/",
          "height": 278
        },
        "id": "z5aHnwMzlxQf",
        "outputId": "2d83b8da-b2ae-49db-dd89-7882ca95d8fc"
      },
      "execution_count": null,
      "outputs": [
        {
          "output_type": "display_data",
          "data": {
            "text/plain": [
              "<Figure size 432x288 with 1 Axes>"
            ],
            "image/png": "[encoded data removed]"
          },
          "metadata": {}
        }
      ]
    },
    {
      "cell_type": "code",
      "source": [
        "# Verificação da porcentagem de fraudes\n",
        "perc = (data_bank.Class.value_counts()[1]/data_bank.shape[0])*100\n",
        "\n",
        "print(\"A porcentagem de transações fraudulentas no dataset é de {0:4.3f}%\".format(perc,))"
      ],
      "metadata": {
        "colab": {
          "base_uri": "https://localhost:8080/"
        },
        "id": "zPPPXi46pV9O",
        "outputId": "96163ce1-5e0d-4279-c242-577b15b8a82c"
      },
      "execution_count": null,
      "outputs": [
        {
          "output_type": "stream",
          "name": "stdout",
          "text": [
            "A porcentagem de transações fraudulentas no dataset é de 0.173%\n"
          ]
        }
      ]
    },
    {
      "cell_type": "markdown",
      "source": [
        "Com isso, observa-se que os dados dessas classificações estão bastante desbalanceados. Dessa maneira, para aplicação de Machine Learning, teremos que balancear esses dados através de técnicas especificas, as quais veremos mais adiante."
      ],
      "metadata": {
        "id": "mfHRb-oMHXsi"
      }
    },
    {
      "cell_type": "markdown",
      "source": [
        "Vamos verificar agora em qual faixa de valores se encontram as transações fraudulentas."
      ],
      "metadata": {
        "id": "sLq5-e2fqqZO"
      }
    },
    {
      "cell_type": "code",
      "source": [
        "# Obtendo resumo dos atributos numéricos para as transações fraudulentas\n",
        "data_bank.Amount.loc[data_bank.Class==1].describe()"
      ],
      "metadata": {
        "colab": {
          "base_uri": "https://localhost:8080/"
        },
        "id": "Buy0h8T5u7r5",
        "outputId": "b11879d4-5e07-433b-c9b0-427c7a08f319"
      },
      "execution_count": null,
      "outputs": [
        {
          "output_type": "execute_result",
          "data": {
            "text/plain": [
              "count     492.000000\n",
              "mean      122.211321\n",
              "std       256.683288\n",
              "min         0.000000\n",
              "25%         1.000000\n",
              "50%         9.250000\n",
              "75%       105.890000\n",
              "max      2125.870000\n",
              "Name: Amount, dtype: float64"
            ]
          },
          "metadata": {},
          "execution_count": 84
        }
      ]
    },
    {
      "cell_type": "code",
      "source": [
        "# Configurações para plotagem de boxplot\n",
        "fig, ax = plt.subplots(figsize=(6,10))\n",
        "\n",
        "sns.boxplot(data_bank.Class,data_bank.Amount,showmeans=True, ax=ax)\n",
        "plt.ylim((-20, 400))\n",
        "plt.xticks([0, 1], ['Normal', 'Fraude'])\n",
        "\n",
        "plt.tight_layout()\n",
        "plt.show()"
      ],
      "metadata": {
        "colab": {
          "base_uri": "https://localhost:8080/",
          "height": 784
        },
        "id": "sEz74N9axVgJ",
        "outputId": "98e63525-dfb7-4a92-d962-aa1fd4053a2a"
      },
      "execution_count": null,
      "outputs": [
        {
          "output_type": "stream",
          "name": "stderr",
          "text": [
            "/usr/local/lib/python3.8/dist-packages/seaborn/_decorators.py:36: FutureWarning: Pass the following variables as keyword args: x, y. From version 0.12, the only valid positional argument will be `data`, and passing other arguments without an explicit keyword will result in an error or misinterpretation.\n",
            "  warnings.warn(\n"
          ]
        },
        {
          "output_type": "display_data",
          "data": {
            "text/plain": [
              "<Figure size 432x720 with 1 Axes>"
            ],
            "image/png": "[encoded data removed]"
          },
          "metadata": {}
        }
      ]
    },
    {
      "cell_type": "markdown",
      "source": [
        "Os *boxplots* indicam diversos valores *outliers*. Isso sugere que provavelmente essa coluna não foi padronizada como as outras. Tal fato pode prejudicar as predições realizadas pelos modelos de machine learning. Portanto, iremos padronizar as colunas *Time* e *Amount* em um novo dataset. Mas antes, vamos verificar em quais valores as fraudes são frequentes."
      ],
      "metadata": {
        "id": "9aEleGGLIJQd"
      }
    },
    {
      "cell_type": "code",
      "source": [
        "# Plotagem de histograma para visualização de frequência de fraudes\n",
        "data_bank.Amount.loc[data_bank.Class==1].hist()"
      ],
      "metadata": {
        "colab": {
          "base_uri": "https://localhost:8080/",
          "height": 282
        },
        "id": "xgWxl1HYx9gV",
        "outputId": "b87c3084-773f-43c9-aea5-a0132ed32e40"
      },
      "execution_count": null,
      "outputs": [
        {
          "output_type": "execute_result",
          "data": {
            "text/plain": [
              "<matplotlib.axes._subplots.AxesSubplot at 0x7fa988472730>"
            ]
          },
          "metadata": {},
          "execution_count": 86
        },
        {
          "output_type": "display_data",
          "data": {
            "text/plain": [
              "<Figure size 432x288 with 1 Axes>"
            ],
            "image/png": "[encoded data removed]"
          },
          "metadata": {}
        }
      ]
    },
    {
      "cell_type": "markdown",
      "source": [
        "Para este dataset, observa-se que a maioria das transação fraudulentas são realizadas com valores teoricamente baixos.\n",
        "\n",
        "Veremos agora o valor total dessas transações."
      ],
      "metadata": {
        "id": "SdxIScfSy-u6"
      }
    },
    {
      "cell_type": "code",
      "source": [
        "# Verificação do valor total das transações fraudulentas\n",
        "total_fraud = data_bank.Amount.loc[data_bank.Class==1].sum()\n",
        "\n",
        "print(\"O total de prejuízo gerado aos bancos foi de {}\".format(total_fraud))"
      ],
      "metadata": {
        "colab": {
          "base_uri": "https://localhost:8080/"
        },
        "id": "kfGuJYWKwp_5",
        "outputId": "854f892d-059e-47e2-ad12-726c219edf60"
      },
      "execution_count": null,
      "outputs": [
        {
          "output_type": "stream",
          "name": "stdout",
          "text": [
            "O total de prejuízo gerado aos bancos foi de 60127.97\n"
          ]
        }
      ]
    },
    {
      "cell_type": "markdown",
      "source": [
        "Realizaremos a plotagem da frequência dos movimentos fraudulentos com relação ao tempo para verificação de algum insight."
      ],
      "metadata": {
        "id": "WYBkeHU3KBiV"
      }
    },
    {
      "cell_type": "code",
      "source": [
        "# Configurações para plotagem de frequencia de fraudes com relação ao tempo\n",
        "fig, ax = plt.subplots(nrows=2, ncols=1, figsize=(20,10))\n",
        "\n",
        "num_bins = 50\n",
        "\n",
        "ax[0].hist(data_bank.Time[data_bank.Class==0], bins=num_bins)\n",
        "ax[0].set_title('Normal')\n",
        "\n",
        "ax[1].hist(data_bank.Time[data_bank.Class==1], bins=num_bins)\n",
        "ax[1].set_title('Fraud')\n",
        "\n",
        "plt.xlabel('Tempo (segundos)')\n",
        "plt.ylabel('Transações')\n",
        "plt.tight_layout()"
      ],
      "metadata": {
        "colab": {
          "base_uri": "https://localhost:8080/",
          "height": 729
        },
        "id": "eCM45kMAmxTc",
        "outputId": "d07b7c31-abc7-49f9-e8c0-5d39892c0466"
      },
      "execution_count": null,
      "outputs": [
        {
          "output_type": "display_data",
          "data": {
            "text/plain": [
              "<Figure size 1440x720 with 2 Axes>"
            ],
            "image/png": "[encoded data removed]"
          },
          "metadata": {}
        }
      ]
    },
    {
      "cell_type": "markdown",
      "source": [
        "Como observado, nenhum insight significativo foi gerado com os gráficos."
      ],
      "metadata": {
        "id": "eZ-KMdcZKNsz"
      }
    },
    {
      "cell_type": "markdown",
      "source": [
        "Antes de iniciarmos nossas manipulações, iremos dividir o conjunto de dados em Treino e Teste, seguindo os passos abaixo:"
      ],
      "metadata": {
        "id": "flqBOJlW_j52"
      }
    },
    {
      "cell_type": "code",
      "source": [
        "# Dimensões do conjunto original\n",
        "print(\"Dimensões do Conjunto Original: \", data_bank.shape)\n",
        "\n",
        "# Criando o conjunto de teste\n",
        "test = data_bank.sample(frac=0.15, random_state=0)\n",
        "\n",
        "# Drop das linhas de teste\n",
        "data_bank = data_bank.drop(test.index)\n",
        "\n",
        "# Verificação do conjunto\n",
        "print(\"Dimensões do Conjunto de Teste: \", test.shape)\n",
        "print(\"Dimensões do Conjunto de Treino: \", data_bank.shape)"
      ],
      "metadata": {
        "colab": {
          "base_uri": "https://localhost:8080/"
        },
        "id": "DlcvIYdI_VpT",
        "outputId": "9147e8f0-238c-4158-b8c6-340e3b7b3f57"
      },
      "execution_count": null,
      "outputs": [
        {
          "output_type": "stream",
          "name": "stdout",
          "text": [
            "Dimensões do Conjunto Original:  (284807, 31)\n",
            "Dimensões do Conjunto de Teste:  (42721, 31)\n",
            "Dimensões do Conjunto de Treino:  (242086, 31)\n"
          ]
        }
      ]
    },
    {
      "cell_type": "markdown",
      "source": [
        "## ***Preparando o Terreno***\n",
        "________________________________________________________________________________"
      ],
      "metadata": {
        "id": "p8cwBkgVOWUD"
      }
    },
    {
      "cell_type": "markdown",
      "source": [
        "### **Padronização dos dados existentes**\n",
        "________________________________________________________________________________\n",
        "\n",
        "A partir de agora, iremos realizar as preparação dos dados para que nossos modelos de machine learning possam performar de maneira adequada.\n",
        "\n",
        "Como comentado anteriormente, padronizaremos os valores das colunas que se mantiveram originais ao dataset."
      ],
      "metadata": {
        "id": "zxuA3s7jTWOT"
      }
    },
    {
      "cell_type": "code",
      "source": [
        "# Importação de biblioteca necessária\n",
        "from sklearn.preprocessing import StandardScaler\n",
        "\n",
        "# Cópia do dataset original\n",
        "data_mach = data_bank.copy()\n",
        "\n",
        "# Padronização das colunas Time e Amount em novas colunas\n",
        "std_scaller = StandardScaler()\n",
        "data_mach['std_amount'] = std_scaller.fit_transform(data_mach.Amount.values.reshape(-1,1))\n",
        "data_mach['std_time'] = std_scaller.fit_transform(data_mach.Time.values.reshape(-1,1))\n",
        "\n",
        "# Exclusão das colunas existentes\n",
        "data_mach.drop(['Time','Amount'], axis=1, inplace=True)\n",
        "\n",
        "# Visualização das primeiras entradas\n",
        "data_mach.head()"
      ],
      "metadata": {
        "colab": {
          "base_uri": "https://localhost:8080/",
          "height": 300
        },
        "id": "lXzKW--6PAqM",
        "outputId": "cd1b952d-4460-4dc2-98ce-a12bf7654d4b"
      },
      "execution_count": null,
      "outputs": [
        {
          "output_type": "execute_result",
          "data": {
            "text/plain": [
              "         V1        V2        V3        V4        V5        V6        V7  \\\n",
              "0 -1.359807 -0.072781  2.536347  1.378155 -0.338321  0.462388  0.239599   \n",
              "1  1.191857  0.266151  0.166480  0.448154  0.060018 -0.082361 -0.078803   \n",
              "2 -1.358354 -1.340163  1.773209  0.379780 -0.503198  1.800499  0.791461   \n",
              "3 -0.966272 -0.185226  1.792993 -0.863291 -0.010309  1.247203  0.237609   \n",
              "4 -1.158233  0.877737  1.548718  0.403034 -0.407193  0.095921  0.592941   \n",
              "\n",
              "         V8        V9       V10  ...       V22       V23       V24       V25  \\\n",
              "0  0.098698  0.363787  0.090794  ...  0.277838 -0.110474  0.066928  0.128539   \n",
              "1  0.085102 -0.255425 -0.166974  ... -0.638672  0.101288 -0.339846  0.167170   \n",
              "2  0.247676 -1.514654  0.207643  ...  0.771679  0.909412 -0.689281 -0.327642   \n",
              "3  0.377436 -1.387024 -0.054952  ...  0.005274 -0.190321 -1.175575  0.647376   \n",
              "4 -0.270533  0.817739  0.753074  ...  0.798278 -0.137458  0.141267 -0.206010   \n",
              "\n",
              "        V26       V27       V28  Class  std_amount  std_time  \n",
              "0 -0.189115  0.133558 -0.021053      0    0.246341 -1.997399  \n",
              "1  0.125895 -0.008983  0.014724      0   -0.346945 -1.997399  \n",
              "2 -0.139097 -0.055353 -0.059752      0    1.171178 -1.997378  \n",
              "3 -0.221929  0.062723  0.061458      0    0.140872 -1.997378  \n",
              "4  0.502292  0.219422  0.215153      0   -0.075195 -1.997357  \n",
              "\n",
              "[5 rows x 31 columns]"
            ],
            "text/html": [
              "\n",
              "  <div id=\"df-9c79c7de-7d8d-4754-bc66-336a4601949e\">\n",
              "    <div class=\"colab-df-container\">\n",
              "      <div>\n",
              "<style scoped>\n",
              "    .dataframe tbody tr th:only-of-type {\n",
              "        vertical-align: middle;\n",
              "    }\n",
              "\n",
              "    .dataframe tbody tr th {\n",
              "        vertical-align: top;\n",
              "    }\n",
              "\n",
              "    .dataframe thead th {\n",
              "        text-align: right;\n",
              "    }\n",
              "</style>\n",
              "<table border=\"1\" class=\"dataframe\">\n",
              "  <thead>\n",
              "    <tr style=\"text-align: right;\">\n",
              "      <th></th>\n",
              "      <th>V1</th>\n",
              "      <th>V2</th>\n",
              "      <th>V3</th>\n",
              "      <th>V4</th>\n",
              "      <th>V5</th>\n",
              "      <th>V6</th>\n",
              "      <th>V7</th>\n",
              "      <th>V8</th>\n",
              "      <th>V9</th>\n",
              "      <th>V10</th>\n",
              "      <th>...</th>\n",
              "      <th>V22</th>\n",
              "      <th>V23</th>\n",
              "      <th>V24</th>\n",
              "      <th>V25</th>\n",
              "      <th>V26</th>\n",
              "      <th>V27</th>\n",
              "      <th>V28</th>\n",
              "      <th>Class</th>\n",
              "      <th>std_amount</th>\n",
              "      <th>std_time</th>\n",
              "    </tr>\n",
              "  </thead>\n",
              "  <tbody>\n",
              "    <tr>\n",
              "      <th>0</th>\n",
              "      <td>-1.359807</td>\n",
              "      <td>-0.072781</td>\n",
              "      <td>2.536347</td>\n",
              "      <td>1.378155</td>\n",
              "      <td>-0.338321</td>\n",
              "      <td>0.462388</td>\n",
              "      <td>0.239599</td>\n",
              "      <td>0.098698</td>\n",
              "      <td>0.363787</td>\n",
              "      <td>0.090794</td>\n",
              "      <td>...</td>\n",
              "      <td>0.277838</td>\n",
              "      <td>-0.110474</td>\n",
              "      <td>0.066928</td>\n",
              "      <td>0.128539</td>\n",
              "      <td>-0.189115</td>\n",
              "      <td>0.133558</td>\n",
              "      <td>-0.021053</td>\n",
              "      <td>0</td>\n",
              "      <td>0.246341</td>\n",
              "      <td>-1.997399</td>\n",
              "    </tr>\n",
              "    <tr>\n",
              "      <th>1</th>\n",
              "      <td>1.191857</td>\n",
              "      <td>0.266151</td>\n",
              "      <td>0.166480</td>\n",
              "      <td>0.448154</td>\n",
              "      <td>0.060018</td>\n",
              "      <td>-0.082361</td>\n",
              "      <td>-0.078803</td>\n",
              "      <td>0.085102</td>\n",
              "      <td>-0.255425</td>\n",
              "      <td>-0.166974</td>\n",
              "      <td>...</td>\n",
              "      <td>-0.638672</td>\n",
              "      <td>0.101288</td>\n",
              "      <td>-0.339846</td>\n",
              "      <td>0.167170</td>\n",
              "      <td>0.125895</td>\n",
              "      <td>-0.008983</td>\n",
              "      <td>0.014724</td>\n",
              "      <td>0</td>\n",
              "      <td>-0.346945</td>\n",
              "      <td>-1.997399</td>\n",
              "    </tr>\n",
              "    <tr>\n",
              "      <th>2</th>\n",
              "      <td>-1.358354</td>\n",
              "      <td>-1.340163</td>\n",
              "      <td>1.773209</td>\n",
              "      <td>0.379780</td>\n",
              "      <td>-0.503198</td>\n",
              "      <td>1.800499</td>\n",
              "      <td>0.791461</td>\n",
              "      <td>0.247676</td>\n",
              "      <td>-1.514654</td>\n",
              "      <td>0.207643</td>\n",
              "      <td>...</td>\n",
              "      <td>0.771679</td>\n",
              "      <td>0.909412</td>\n",
              "      <td>-0.689281</td>\n",
              "      <td>-0.327642</td>\n",
              "      <td>-0.139097</td>\n",
              "      <td>-0.055353</td>\n",
              "      <td>-0.059752</td>\n",
              "      <td>0</td>\n",
              "      <td>1.171178</td>\n",
              "      <td>-1.997378</td>\n",
              "    </tr>\n",
              "    <tr>\n",
              "      <th>3</th>\n",
              "      <td>-0.966272</td>\n",
              "      <td>-0.185226</td>\n",
              "      <td>1.792993</td>\n",
              "      <td>-0.863291</td>\n",
              "      <td>-0.010309</td>\n",
              "      <td>1.247203</td>\n",
              "      <td>0.237609</td>\n",
              "      <td>0.377436</td>\n",
              "      <td>-1.387024</td>\n",
              "      <td>-0.054952</td>\n",
              "      <td>...</td>\n",
              "      <td>0.005274</td>\n",
              "      <td>-0.190321</td>\n",
              "      <td>-1.175575</td>\n",
              "      <td>0.647376</td>\n",
              "      <td>-0.221929</td>\n",
              "      <td>0.062723</td>\n",
              "      <td>0.061458</td>\n",
              "      <td>0</td>\n",
              "      <td>0.140872</td>\n",
              "      <td>-1.997378</td>\n",
              "    </tr>\n",
              "    <tr>\n",
              "      <th>4</th>\n",
              "      <td>-1.158233</td>\n",
              "      <td>0.877737</td>\n",
              "      <td>1.548718</td>\n",
              "      <td>0.403034</td>\n",
              "      <td>-0.407193</td>\n",
              "      <td>0.095921</td>\n",
              "      <td>0.592941</td>\n",
              "      <td>-0.270533</td>\n",
              "      <td>0.817739</td>\n",
              "      <td>0.753074</td>\n",
              "      <td>...</td>\n",
              "      <td>0.798278</td>\n",
              "      <td>-0.137458</td>\n",
              "      <td>0.141267</td>\n",
              "      <td>-0.206010</td>\n",
              "      <td>0.502292</td>\n",
              "      <td>0.219422</td>\n",
              "      <td>0.215153</td>\n",
              "      <td>0</td>\n",
              "      <td>-0.075195</td>\n",
              "      <td>-1.997357</td>\n",
              "    </tr>\n",
              "  </tbody>\n",
              "</table>\n",
              "<p>5 rows × 31 columns</p>\n",
              "</div>\n",
              "      <button class=\"colab-df-convert\" onclick=\"convertToInteractive('df-9c79c7de-7d8d-4754-bc66-336a4601949e')\"\n",
              "              title=\"Convert this dataframe to an interactive table.\"\n",
              "              style=\"display:none;\">\n",
              "        \n",
              "  <svg xmlns=\"http://www.w3.org/2000/svg\" height=\"24px\"viewBox=\"0 0 24 24\"\n",
              "       width=\"24px\">\n",
              "    <path d=\"M0 0h24v24H0V0z\" fill=\"none\"/>\n",
              "    <path d=\"M18.56 5.44l.94 2.06.94-2.06 2.06-.94-2.06-.94-.94-2.06-.94 2.06-2.06.94zm-11 1L8.5 8.5l.94-2.06 2.06-.94-2.06-.94L8.5 2.5l-.94 2.06-2.06.94zm10 10l.94 2.06.94-2.06 2.06-.94-2.06-.94-.94-2.06-.94 2.06-2.06.94z\"/><path d=\"M17.41 7.96l-1.37-1.37c-.4-.4-.92-.59-1.43-.59-.52 0-1.04.2-1.43.59L10.3 9.45l-7.72 7.72c-.78.78-.78 2.05 0 2.83L4 21.41c.39.39.9.59 1.41.59.51 0 1.02-.2 1.41-.59l7.78-7.78 2.81-2.81c.8-.78.8-2.07 0-2.86zM5.41 20L4 18.59l7.72-7.72 1.47 1.35L5.41 20z\"/>\n",
              "  </svg>\n",
              "      </button>\n",
              "      \n",
              "  <style>\n",
              "    .colab-df-container {\n",
              "      display:flex;\n",
              "      flex-wrap:wrap;\n",
              "      gap: 12px;\n",
              "    }\n",
              "\n",
              "    .colab-df-convert {\n",
              "      background-color: #E8F0FE;\n",
              "      border: none;\n",
              "      border-radius: 50%;\n",
              "      cursor: pointer;\n",
              "      display: none;\n",
              "      fill: #1967D2;\n",
              "      height: 32px;\n",
              "      padding: 0 0 0 0;\n",
              "      width: 32px;\n",
              "    }\n",
              "\n",
              "    .colab-df-convert:hover {\n",
              "      background-color: #E2EBFA;\n",
              "      box-shadow: 0px 1px 2px rgba(60, 64, 67, 0.3), 0px 1px 3px 1px rgba(60, 64, 67, 0.15);\n",
              "      fill: #174EA6;\n",
              "    }\n",
              "\n",
              "    [theme=dark] .colab-df-convert {\n",
              "      background-color: #3B4455;\n",
              "      fill: #D2E3FC;\n",
              "    }\n",
              "\n",
              "    [theme=dark] .colab-df-convert:hover {\n",
              "      background-color: #434B5C;\n",
              "      box-shadow: 0px 1px 3px 1px rgba(0, 0, 0, 0.15);\n",
              "      filter: drop-shadow(0px 1px 2px rgba(0, 0, 0, 0.3));\n",
              "      fill: #FFFFFF;\n",
              "    }\n",
              "  </style>\n",
              "\n",
              "      <script>\n",
              "        const buttonEl =\n",
              "          document.querySelector('#df-9c79c7de-7d8d-4754-bc66-336a4601949e button.colab-df-convert');\n",
              "        buttonEl.style.display =\n",
              "          google.colab.kernel.accessAllowed ? 'block' : 'none';\n",
              "\n",
              "        async function convertToInteractive(key) {\n",
              "          const element = document.querySelector('#df-9c79c7de-7d8d-4754-bc66-336a4601949e');\n",
              "          const dataTable =\n",
              "            await google.colab.kernel.invokeFunction('convertToInteractive',\n",
              "                                                     [key], {});\n",
              "          if (!dataTable) return;\n",
              "\n",
              "          const docLinkHtml = 'Like what you see? Visit the ' +\n",
              "            '<a target=\"_blank\" href=https://colab.research.google.com/notebooks/data_table.ipynb>data table notebook</a>'\n",
              "            + ' to learn more about interactive tables.';\n",
              "          element.innerHTML = '';\n",
              "          dataTable['output_type'] = 'display_data';\n",
              "          await google.colab.output.renderOutput(dataTable, element);\n",
              "          const docLink = document.createElement('div');\n",
              "          docLink.innerHTML = docLinkHtml;\n",
              "          element.appendChild(docLink);\n",
              "        }\n",
              "      </script>\n",
              "    </div>\n",
              "  </div>\n",
              "  "
            ]
          },
          "metadata": {},
          "execution_count": 90
        }
      ]
    },
    {
      "cell_type": "markdown",
      "source": [
        "### **Divisão dos dados de treino e validação**\n",
        "________________________________________________________________________________\n",
        "\n",
        "Dividiu-se os dados para a realização dos procedimentos de teste e validação. Como nossos modelos de machine learning possuirão características de sistemas supervisionados, iremos também dividir os dados em conjunto de *features* e conjunto de *target*."
      ],
      "metadata": {
        "id": "f0tPSwYETybn"
      }
    },
    {
      "cell_type": "code",
      "source": [
        "# Importação de bibliotecas necessárias\n",
        "from sklearn.model_selection import train_test_split\n",
        "\n",
        "# Divisão do dataset em features e target\n",
        "X = data_mach.drop('Class', axis=1)\n",
        "y = data_mach.Class\n",
        "\n",
        "# Divisão dos dados em treino e validação\n",
        "X_train, X_val, y_train, y_val = train_test_split (X, y)\n",
        "\n",
        "print(\n",
        "    \"Tamanho do conjunto X: {}\\n\".format(X.shape),\n",
        "    \"Tamanho do conjunto y: {}\\n\".format(y.shape),\n",
        "    \"Tamanho do conjunto X_train: {}\\n\".format(X_train.shape),\n",
        "    \"Tamanho do conjunto X_val: {}\\n\".format(X_val.shape),\n",
        "    \"Tamanho do conjunto y_train: {}\\n\".format(y_train.shape),\n",
        "    \"Tamanho do conjunto y_val: {}\\n\".format(y_val.shape)\n",
        ")"
      ],
      "metadata": {
        "colab": {
          "base_uri": "https://localhost:8080/"
        },
        "id": "O3WNchJ3UO6b",
        "outputId": "1be249f0-0ca3-4ade-8ee3-a3b6eedaf0de"
      },
      "execution_count": null,
      "outputs": [
        {
          "output_type": "stream",
          "name": "stdout",
          "text": [
            "Tamanho do conjunto X: (242086, 30)\n",
            " Tamanho do conjunto y: (242086,)\n",
            " Tamanho do conjunto X_train: (181564, 30)\n",
            " Tamanho do conjunto X_val: (60522, 30)\n",
            " Tamanho do conjunto y_train: (181564,)\n",
            " Tamanho do conjunto y_val: (60522,)\n",
            "\n"
          ]
        }
      ]
    },
    {
      "cell_type": "markdown",
      "source": [
        "### **Balanceamento dos dados de Target**\n",
        "________________________________________________________________________________\n",
        "\n",
        "Dados desbalanceados indicam entropia baixa. Neste caso, com 0,173% de dados demarcados como fraude, temos praticamente um conjunto puro, o que dificiulta o entendimento do algoritmo de classificação. Para a resolução deste problema, iremos utilizar o método *Random Under-sampling (RUS)*, que, segundo Moreira (2022), descarta um subconjunto aleatório da classe majoritária, preservando as características da classe minoritária, favorecendo grandes volumes de dados."
      ],
      "metadata": {
        "id": "c_LJB9hvXI6F"
      }
    },
    {
      "cell_type": "code",
      "source": [
        "# Importação de bibliotecas necessárias\n",
        "from imblearn.under_sampling import RandomUnderSampler\n",
        "\n",
        "# Usar técnica under-sampling\n",
        "rus = RandomUnderSampler()\n",
        "X_rus, y_rus = rus.fit_resample(X_train, y_train)\n",
        "\n",
        "# Ver o balanceamento das classes\n",
        "print(pd.Series(y_rus).value_counts())\n",
        "\n",
        "# Plotar a nova distribuição de classes\n",
        "fig, ax = plt.subplots()\n",
        "\n",
        "sns.countplot(y_rus, ax=ax)\n",
        "\n",
        "ax.set_title (\"Distribuição das Classes\")\n",
        "\n",
        "plt.show()"
      ],
      "metadata": {
        "colab": {
          "base_uri": "https://localhost:8080/",
          "height": 402
        },
        "id": "oUUWR_ikzoFc",
        "outputId": "beb5fa0a-2d3f-4373-f4b7-a7fc3e67da8c"
      },
      "execution_count": null,
      "outputs": [
        {
          "output_type": "stream",
          "name": "stdout",
          "text": [
            "0    311\n",
            "1    311\n",
            "Name: Class, dtype: int64\n"
          ]
        },
        {
          "output_type": "stream",
          "name": "stderr",
          "text": [
            "/usr/local/lib/python3.8/dist-packages/seaborn/_decorators.py:36: FutureWarning: Pass the following variable as a keyword arg: x. From version 0.12, the only valid positional argument will be `data`, and passing other arguments without an explicit keyword will result in an error or misinterpretation.\n",
            "  warnings.warn(\n"
          ]
        },
        {
          "output_type": "display_data",
          "data": {
            "text/plain": [
              "<Figure size 432x288 with 1 Axes>"
            ],
            "image/png": "[encoded data removed]"
          },
          "metadata": {}
        }
      ]
    },
    {
      "cell_type": "markdown",
      "source": [
        "Observa-se claramente no gráfico que os dados foram balanceados.\n",
        "\n",
        "Abaixo comparamos a matriz de correlação antes e depois do processo. Sem dúvidas os dados passaram a se correlacionar melhor após o balanceamento."
      ],
      "metadata": {
        "id": "BtSzY5o71b5_"
      }
    },
    {
      "cell_type": "code",
      "source": [
        "# Plotagem de matriz de correlação\n",
        "corr = X_train.corr()\n",
        "corr_rus = pd.DataFrame(X_rus).corr()\n",
        "\n",
        "fig, ax = plt.subplots(nrows=1, ncols=2, figsize = (18,8))\n",
        "fig.suptitle('Matriz de Correlação')\n",
        "\n",
        "sns.heatmap(corr, xticklabels=corr.columns, yticklabels=corr.columns,\n",
        "            linewidths=.1, cmap=\"coolwarm\", ax=ax[0])\n",
        "ax[0].set_title('Desbalanceado')\n",
        "\n",
        "sns.heatmap(corr_rus, xticklabels=corr.columns, yticklabels=corr.columns,\n",
        "            linewidths=.1, cmap=\"coolwarm\", ax=ax[1])\n",
        "ax[1].set_title('Balanceado')\n",
        "\n",
        "plt.show()"
      ],
      "metadata": {
        "colab": {
          "base_uri": "https://localhost:8080/",
          "height": 589
        },
        "id": "tqZLh4SY6fG2",
        "outputId": "7205590f-2b45-4480-e576-14979d25efb9"
      },
      "execution_count": null,
      "outputs": [
        {
          "output_type": "display_data",
          "data": {
            "text/plain": [
              "<Figure size 1296x576 with 4 Axes>"
            ],
            "image/png": "[encoded data removed]"
          },
          "metadata": {}
        }
      ]
    },
    {
      "cell_type": "markdown",
      "source": [
        "## ***Modelos de Machine Learning***\n",
        "________________________________________________________________________________\n",
        "\n",
        "De acordo com Moreira (2022), as técnicas de aprendizado supervisionado mais comuns utilizadas em detecção de fraudes são as variantes de árvore de decisão, redes neurais, regressão linear, regressão logística, KNN e Naive Bayes.\n",
        "\n",
        "Para este estudo iremos comparar o desempenho das técnicas de Regressão Logística e Árvores de Decisão."
      ],
      "metadata": {
        "id": "-MioWodg2NTN"
      }
    },
    {
      "cell_type": "markdown",
      "source": [
        "![IMAGEM.png](data:image/png;base64,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)"
      ],
      "metadata": {
        "id": "Q4FrMZ4xCiZP"
      }
    },
    {
      "cell_type": "markdown",
      "source": [
        "Na figura acima podemos verificar o processo de implementação de machine learning em um sistema financeiro."
      ],
      "metadata": {
        "id": "MIMPcXf5CnpH"
      }
    },
    {
      "cell_type": "markdown",
      "source": [
        "### **Regressão Logística**\n",
        "________________________________________________________________________________\n",
        "\n",
        "Aqui iremos descrever em forma de código os passos para construção do modelo."
      ],
      "metadata": {
        "id": "5T22Wj_98peC"
      }
    },
    {
      "cell_type": "code",
      "source": [
        "# Importação de biliotecas necessárias\n",
        "from sklearn.linear_model import LogisticRegression\n",
        "from sklearn.metrics import classification_report\n",
        "from sklearn.metrics import confusion_matrix\n",
        "from sklearn.metrics import roc_auc_score, roc_curve, accuracy_score"
      ],
      "metadata": {
        "id": "HOcpOpls87zD"
      },
      "execution_count": null,
      "outputs": []
    },
    {
      "cell_type": "code",
      "source": [
        "# Instanciamento e escolha dos hiperparâmetros\n",
        "model1 = LogisticRegression()\n",
        "\n",
        "# Treinamento do Modelo\n",
        "model1.fit(X_rus, y_rus)\n",
        "\n",
        "# Previsões em cima dos dados de teste\n",
        "y_pred = model1.predict(X_val)\n",
        "y_proba = model1.predict_proba(X_val)\n",
        "\n",
        "# Plote de matrix de confusão\n",
        "mat = confusion_matrix (y_val, y_pred, normalize='true')\n",
        "sns.heatmap (mat, square=True, annot=True)\n",
        "\n",
        "# imprimir relatório de classificação\n",
        "print(\"Relatório de Classificação:\\n\", classification_report(y_val, y_pred, digits=4))\n",
        "\n",
        "# imprimir a acurácia do modelo\n",
        "print(\"Acurácia: {:.4f}\\n\".format(accuracy_score(y_val, y_pred)))\n",
        "\n",
        "# imprimir a área sob da curva\n",
        "print(\"AUC: {:.4f}\\n\".format(roc_auc_score(y_val, y_pred)))"
      ],
      "metadata": {
        "colab": {
          "base_uri": "https://localhost:8080/",
          "height": 508
        },
        "id": "-e_NFelw9Mmn",
        "outputId": "ea58a7a0-cc80-454c-86c8-baaf1763e9dd"
      },
      "execution_count": null,
      "outputs": [
        {
          "output_type": "stream",
          "name": "stdout",
          "text": [
            "Relatório de Classificação:\n",
            "               precision    recall  f1-score   support\n",
            "\n",
            "           0     0.9999    0.9550    0.9769     60415\n",
            "           1     0.0351    0.9252    0.0677       107\n",
            "\n",
            "    accuracy                         0.9549     60522\n",
            "   macro avg     0.5175    0.9401    0.5223     60522\n",
            "weighted avg     0.9982    0.9549    0.9753     60522\n",
            "\n",
            "Acurácia: 0.9549\n",
            "\n",
            "AUC: 0.9401\n",
            "\n"
          ]
        },
        {
          "output_type": "display_data",
          "data": {
            "text/plain": [
              "<Figure size 432x288 with 2 Axes>"
            ],
            "image/png": "[encoded data removed]"
          },
          "metadata": {}
        }
      ]
    },
    {
      "cell_type": "markdown",
      "source": [
        "### **Previsões com o conjunto Teste**\n",
        "________________________________________________________________________________\n",
        "\n",
        "No começo do projeto, realizamos um split nos dados para que tivéssemos 3 conjuntos: Um de treino, um de validação e um de teste. \n",
        "\n",
        "Agora que já exploramos e preparamos os dados, instaciamos o modelo e fizemos previsões no conjunto de validação, é hora de descobrirmos o potencial desse simples modelo com os dados de teste.\n",
        "\n",
        "O que faremos é apenas utilizar o modelo que treinamos com um novo conjunto. Mas, para que os resultados sejam justos, precisamos fazer com que os novos dados estejam nas mesmas condições daqueles que o nosso modelo espera.\n",
        "\n",
        "Nesse caso, precisamos padronizar as colunas Time e Amount. Não podemos balancear os dados pois haveria perda. Nosso modelo precisa ser tratado mas precisamos fazer previsões em todas as linhas que ele receber.\n"
      ],
      "metadata": {
        "id": "R9DE1UQDQpTu"
      }
    },
    {
      "cell_type": "code",
      "source": [
        "# Padronizar as colunas Time e Amount - Teste\n",
        "test_clean = test.copy()\n",
        "\n",
        "std_scaler = StandardScaler()\n",
        "test_clean['std_amount'] = std_scaler.fit_transform(test_clean['Amount'].values.reshape(-1, 1))\n",
        "test_clean['std_time'] = std_scaler.fit_transform(test_clean['Time'].values.reshape(-1, 1))\n",
        "\n",
        "test_clean.drop(['Time', 'Amount'], axis=1, inplace=True)\n",
        "\n",
        "# ver as primeiras entradas\n",
        "test_clean.head()"
      ],
      "metadata": {
        "colab": {
          "base_uri": "https://localhost:8080/",
          "height": 300
        },
        "id": "DNSkJpexQ4mx",
        "outputId": "5d1b0145-1481-4a6a-b11e-b25523dab2a9"
      },
      "execution_count": null,
      "outputs": [
        {
          "output_type": "execute_result",
          "data": {
            "text/plain": [
              "              V1        V2        V3        V4        V5        V6        V7  \\\n",
              "183484 -0.323334  1.057455 -0.048341 -0.607204  1.259821 -0.091761  1.159101   \n",
              "255448 -0.349718  0.932619  0.142992 -0.657071  1.169784 -0.733369  1.009985   \n",
              "244749 -1.614711 -2.406570  0.326194  0.665520  2.369268 -1.775367 -1.139049   \n",
              "63919  -2.477184  0.860613  1.441850  1.051019 -1.856621  2.078384  0.510828   \n",
              "11475   1.338831 -0.547264  0.737389 -0.212383 -1.110039 -0.525744 -0.801403   \n",
              "\n",
              "              V8        V9       V10  ...       V22       V23       V24  \\\n",
              "183484 -0.124335 -0.174640 -1.644401  ... -0.433890 -0.261613 -0.046651   \n",
              "255448 -0.071069 -0.302083 -1.192404  ... -0.833209 -0.030360  0.490035   \n",
              "244749  0.329904  0.903813 -0.219013  ...  1.134489  0.965054  0.640981   \n",
              "63919  -0.243399 -0.260691  0.133040  ...  0.692245  0.150121 -0.260777   \n",
              "11475  -0.063672  0.997276  0.113386  ... -0.074719  0.067055  0.333122   \n",
              "\n",
              "             V25       V26       V27       V28  Class  std_amount  std_time  \n",
              "183484  0.211512  0.008297  0.108494  0.161139      0   -0.177738  0.658372  \n",
              "255448 -0.404816  0.134350  0.076830  0.175562      0   -0.321945  1.320094  \n",
              "244749 -1.801998 -1.041114  0.286285  0.437322      0    0.034666  1.219742  \n",
              "63919   0.005183 -0.177847 -0.510060 -0.660533      0    0.838765 -0.919236  \n",
              "11475   0.379087 -0.268706 -0.002769  0.003272      0   -0.310490 -1.572827  \n",
              "\n",
              "[5 rows x 31 columns]"
            ],
            "text/html": [
              "\n",
              "  <div id=\"df-45fcd471-531a-4f62-a3ff-53712f435d50\">\n",
              "    <div class=\"colab-df-container\">\n",
              "      <div>\n",
              "<style scoped>\n",
              "    .dataframe tbody tr th:only-of-type {\n",
              "        vertical-align: middle;\n",
              "    }\n",
              "\n",
              "    .dataframe tbody tr th {\n",
              "        vertical-align: top;\n",
              "    }\n",
              "\n",
              "    .dataframe thead th {\n",
              "        text-align: right;\n",
              "    }\n",
              "</style>\n",
              "<table border=\"1\" class=\"dataframe\">\n",
              "  <thead>\n",
              "    <tr style=\"text-align: right;\">\n",
              "      <th></th>\n",
              "      <th>V1</th>\n",
              "      <th>V2</th>\n",
              "      <th>V3</th>\n",
              "      <th>V4</th>\n",
              "      <th>V5</th>\n",
              "      <th>V6</th>\n",
              "      <th>V7</th>\n",
              "      <th>V8</th>\n",
              "      <th>V9</th>\n",
              "      <th>V10</th>\n",
              "      <th>...</th>\n",
              "      <th>V22</th>\n",
              "      <th>V23</th>\n",
              "      <th>V24</th>\n",
              "      <th>V25</th>\n",
              "      <th>V26</th>\n",
              "      <th>V27</th>\n",
              "      <th>V28</th>\n",
              "      <th>Class</th>\n",
              "      <th>std_amount</th>\n",
              "      <th>std_time</th>\n",
              "    </tr>\n",
              "  </thead>\n",
              "  <tbody>\n",
              "    <tr>\n",
              "      <th>183484</th>\n",
              "      <td>-0.323334</td>\n",
              "      <td>1.057455</td>\n",
              "      <td>-0.048341</td>\n",
              "      <td>-0.607204</td>\n",
              "      <td>1.259821</td>\n",
              "      <td>-0.091761</td>\n",
              "      <td>1.159101</td>\n",
              "      <td>-0.124335</td>\n",
              "      <td>-0.174640</td>\n",
              "      <td>-1.644401</td>\n",
              "      <td>...</td>\n",
              "      <td>-0.433890</td>\n",
              "      <td>-0.261613</td>\n",
              "      <td>-0.046651</td>\n",
              "      <td>0.211512</td>\n",
              "      <td>0.008297</td>\n",
              "      <td>0.108494</td>\n",
              "      <td>0.161139</td>\n",
              "      <td>0</td>\n",
              "      <td>-0.177738</td>\n",
              "      <td>0.658372</td>\n",
              "    </tr>\n",
              "    <tr>\n",
              "      <th>255448</th>\n",
              "      <td>-0.349718</td>\n",
              "      <td>0.932619</td>\n",
              "      <td>0.142992</td>\n",
              "      <td>-0.657071</td>\n",
              "      <td>1.169784</td>\n",
              "      <td>-0.733369</td>\n",
              "      <td>1.009985</td>\n",
              "      <td>-0.071069</td>\n",
              "      <td>-0.302083</td>\n",
              "      <td>-1.192404</td>\n",
              "      <td>...</td>\n",
              "      <td>-0.833209</td>\n",
              "      <td>-0.030360</td>\n",
              "      <td>0.490035</td>\n",
              "      <td>-0.404816</td>\n",
              "      <td>0.134350</td>\n",
              "      <td>0.076830</td>\n",
              "      <td>0.175562</td>\n",
              "      <td>0</td>\n",
              "      <td>-0.321945</td>\n",
              "      <td>1.320094</td>\n",
              "    </tr>\n",
              "    <tr>\n",
              "      <th>244749</th>\n",
              "      <td>-1.614711</td>\n",
              "      <td>-2.406570</td>\n",
              "      <td>0.326194</td>\n",
              "      <td>0.665520</td>\n",
              "      <td>2.369268</td>\n",
              "      <td>-1.775367</td>\n",
              "      <td>-1.139049</td>\n",
              "      <td>0.329904</td>\n",
              "      <td>0.903813</td>\n",
              "      <td>-0.219013</td>\n",
              "      <td>...</td>\n",
              "      <td>1.134489</td>\n",
              "      <td>0.965054</td>\n",
              "      <td>0.640981</td>\n",
              "      <td>-1.801998</td>\n",
              "      <td>-1.041114</td>\n",
              "      <td>0.286285</td>\n",
              "      <td>0.437322</td>\n",
              "      <td>0</td>\n",
              "      <td>0.034666</td>\n",
              "      <td>1.219742</td>\n",
              "    </tr>\n",
              "    <tr>\n",
              "      <th>63919</th>\n",
              "      <td>-2.477184</td>\n",
              "      <td>0.860613</td>\n",
              "      <td>1.441850</td>\n",
              "      <td>1.051019</td>\n",
              "      <td>-1.856621</td>\n",
              "      <td>2.078384</td>\n",
              "      <td>0.510828</td>\n",
              "      <td>-0.243399</td>\n",
              "      <td>-0.260691</td>\n",
              "      <td>0.133040</td>\n",
              "      <td>...</td>\n",
              "      <td>0.692245</td>\n",
              "      <td>0.150121</td>\n",
              "      <td>-0.260777</td>\n",
              "      <td>0.005183</td>\n",
              "      <td>-0.177847</td>\n",
              "      <td>-0.510060</td>\n",
              "      <td>-0.660533</td>\n",
              "      <td>0</td>\n",
              "      <td>0.838765</td>\n",
              "      <td>-0.919236</td>\n",
              "    </tr>\n",
              "    <tr>\n",
              "      <th>11475</th>\n",
              "      <td>1.338831</td>\n",
              "      <td>-0.547264</td>\n",
              "      <td>0.737389</td>\n",
              "      <td>-0.212383</td>\n",
              "      <td>-1.110039</td>\n",
              "      <td>-0.525744</td>\n",
              "      <td>-0.801403</td>\n",
              "      <td>-0.063672</td>\n",
              "      <td>0.997276</td>\n",
              "      <td>0.113386</td>\n",
              "      <td>...</td>\n",
              "      <td>-0.074719</td>\n",
              "      <td>0.067055</td>\n",
              "      <td>0.333122</td>\n",
              "      <td>0.379087</td>\n",
              "      <td>-0.268706</td>\n",
              "      <td>-0.002769</td>\n",
              "      <td>0.003272</td>\n",
              "      <td>0</td>\n",
              "      <td>-0.310490</td>\n",
              "      <td>-1.572827</td>\n",
              "    </tr>\n",
              "  </tbody>\n",
              "</table>\n",
              "<p>5 rows × 31 columns</p>\n",
              "</div>\n",
              "      <button class=\"colab-df-convert\" onclick=\"convertToInteractive('df-45fcd471-531a-4f62-a3ff-53712f435d50')\"\n",
              "              title=\"Convert this dataframe to an interactive table.\"\n",
              "              style=\"display:none;\">\n",
              "        \n",
              "  <svg xmlns=\"http://www.w3.org/2000/svg\" height=\"24px\"viewBox=\"0 0 24 24\"\n",
              "       width=\"24px\">\n",
              "    <path d=\"M0 0h24v24H0V0z\" fill=\"none\"/>\n",
              "    <path d=\"M18.56 5.44l.94 2.06.94-2.06 2.06-.94-2.06-.94-.94-2.06-.94 2.06-2.06.94zm-11 1L8.5 8.5l.94-2.06 2.06-.94-2.06-.94L8.5 2.5l-.94 2.06-2.06.94zm10 10l.94 2.06.94-2.06 2.06-.94-2.06-.94-.94-2.06-.94 2.06-2.06.94z\"/><path d=\"M17.41 7.96l-1.37-1.37c-.4-.4-.92-.59-1.43-.59-.52 0-1.04.2-1.43.59L10.3 9.45l-7.72 7.72c-.78.78-.78 2.05 0 2.83L4 21.41c.39.39.9.59 1.41.59.51 0 1.02-.2 1.41-.59l7.78-7.78 2.81-2.81c.8-.78.8-2.07 0-2.86zM5.41 20L4 18.59l7.72-7.72 1.47 1.35L5.41 20z\"/>\n",
              "  </svg>\n",
              "      </button>\n",
              "      \n",
              "  <style>\n",
              "    .colab-df-container {\n",
              "      display:flex;\n",
              "      flex-wrap:wrap;\n",
              "      gap: 12px;\n",
              "    }\n",
              "\n",
              "    .colab-df-convert {\n",
              "      background-color: #E8F0FE;\n",
              "      border: none;\n",
              "      border-radius: 50%;\n",
              "      cursor: pointer;\n",
              "      display: none;\n",
              "      fill: #1967D2;\n",
              "      height: 32px;\n",
              "      padding: 0 0 0 0;\n",
              "      width: 32px;\n",
              "    }\n",
              "\n",
              "    .colab-df-convert:hover {\n",
              "      background-color: #E2EBFA;\n",
              "      box-shadow: 0px 1px 2px rgba(60, 64, 67, 0.3), 0px 1px 3px 1px rgba(60, 64, 67, 0.15);\n",
              "      fill: #174EA6;\n",
              "    }\n",
              "\n",
              "    [theme=dark] .colab-df-convert {\n",
              "      background-color: #3B4455;\n",
              "      fill: #D2E3FC;\n",
              "    }\n",
              "\n",
              "    [theme=dark] .colab-df-convert:hover {\n",
              "      background-color: #434B5C;\n",
              "      box-shadow: 0px 1px 3px 1px rgba(0, 0, 0, 0.15);\n",
              "      filter: drop-shadow(0px 1px 2px rgba(0, 0, 0, 0.3));\n",
              "      fill: #FFFFFF;\n",
              "    }\n",
              "  </style>\n",
              "\n",
              "      <script>\n",
              "        const buttonEl =\n",
              "          document.querySelector('#df-45fcd471-531a-4f62-a3ff-53712f435d50 button.colab-df-convert');\n",
              "        buttonEl.style.display =\n",
              "          google.colab.kernel.accessAllowed ? 'block' : 'none';\n",
              "\n",
              "        async function convertToInteractive(key) {\n",
              "          const element = document.querySelector('#df-45fcd471-531a-4f62-a3ff-53712f435d50');\n",
              "          const dataTable =\n",
              "            await google.colab.kernel.invokeFunction('convertToInteractive',\n",
              "                                                     [key], {});\n",
              "          if (!dataTable) return;\n",
              "\n",
              "          const docLinkHtml = 'Like what you see? Visit the ' +\n",
              "            '<a target=\"_blank\" href=https://colab.research.google.com/notebooks/data_table.ipynb>data table notebook</a>'\n",
              "            + ' to learn more about interactive tables.';\n",
              "          element.innerHTML = '';\n",
              "          dataTable['output_type'] = 'display_data';\n",
              "          await google.colab.output.renderOutput(dataTable, element);\n",
              "          const docLink = document.createElement('div');\n",
              "          docLink.innerHTML = docLinkHtml;\n",
              "          element.appendChild(docLink);\n",
              "        }\n",
              "      </script>\n",
              "    </div>\n",
              "  </div>\n",
              "  "
            ]
          },
          "metadata": {},
          "execution_count": 96
        }
      ]
    },
    {
      "cell_type": "code",
      "source": [
        "# separar variáveis entre X e y\n",
        "X_test = test_clean.drop('Class', axis=1)\n",
        "y_test = test['Class']\n",
        "\n",
        "# fazer as previsões em cima dos dados de teste\n",
        "y_pred = model1.predict(X_test)\n",
        "y_proba = model1.predict_proba(X_test)\n",
        "\n",
        "# plotar a matrix de confusão\n",
        "mat = confusion_matrix (y_test, y_pred, normalize='true')\n",
        "sns.heatmap (mat, square=True, annot=True)\n",
        "\n",
        "# imprimir relatório de classificação\n",
        "print(\"Relatório de Classificação:\\n\", classification_report(y_test, y_pred, digits=4))\n",
        "\n",
        "# imprimir a acurácia do modelo\n",
        "print(\"Acurácia: {:.4f}\\n\".format(accuracy_score(y_test, y_pred)))\n",
        "\n",
        "# imprimir a área sob da curva\n",
        "print(\"AUC: {:.4f}\\n\".format(roc_auc_score(y_test, y_pred)))"
      ],
      "metadata": {
        "colab": {
          "base_uri": "https://localhost:8080/",
          "height": 508
        },
        "id": "MRPVOlArRGtK",
        "outputId": "3698c231-a1fd-4fbd-9da7-79ac609423a7"
      },
      "execution_count": null,
      "outputs": [
        {
          "output_type": "stream",
          "name": "stdout",
          "text": [
            "Relatório de Classificação:\n",
            "               precision    recall  f1-score   support\n",
            "\n",
            "           0     0.9999    0.9570    0.9780     42647\n",
            "           1     0.0373    0.9595    0.0717        74\n",
            "\n",
            "    accuracy                         0.9570     42721\n",
            "   macro avg     0.5186    0.9582    0.5248     42721\n",
            "weighted avg     0.9983    0.9570    0.9764     42721\n",
            "\n",
            "Acurácia: 0.9570\n",
            "\n",
            "AUC: 0.9582\n",
            "\n"
          ]
        },
        {
          "output_type": "display_data",
          "data": {
            "text/plain": [
              "<Figure size 432x288 with 2 Axes>"
            ],
            "image/png": "[encoded data removed]"
          },
          "metadata": {}
        }
      ]
    },
    {
      "cell_type": "markdown",
      "source": [
        "Neste caso, houve um mínimo aumento nos resultados no conjunto de testes."
      ],
      "metadata": {
        "id": "bFNQdvrEX-Wr"
      }
    },
    {
      "cell_type": "markdown",
      "source": [
        "### **Árvore de Descisão**\n",
        "________________________________________________________________________________\n",
        "\n",
        "Aqui iremos descrever em forma de código os passos para construção do modelo."
      ],
      "metadata": {
        "id": "8Pr_L0dfPgKi"
      }
    },
    {
      "cell_type": "code",
      "source": [
        "# Importação de biliotecas necessárias\n",
        "from sklearn.tree import DecisionTreeClassifier"
      ],
      "metadata": {
        "id": "_DzXyNajPniC"
      },
      "execution_count": null,
      "outputs": []
    },
    {
      "cell_type": "code",
      "source": [
        "# Instanciamento e escolha dos hiperparâmetros\n",
        "model2 = DecisionTreeClassifier(max_depth=4, criterion=\"entropy\")\n",
        "\n",
        "# Treinamento do Modelo\n",
        "model2.fit(X_rus, y_rus)\n",
        "\n",
        "# Previsões em cima dos dados de teste\n",
        "y_pred = model2.predict(X_val)\n",
        "y_proba = model2.predict_proba(X_val)\n",
        "\n",
        "# Plote de matrix de confusão\n",
        "mat = confusion_matrix (y_val, y_pred, normalize='true')\n",
        "sns.heatmap (mat, square=True, annot=True)\n",
        "\n",
        "# imprimir relatório de classificação\n",
        "print(\"Relatório de Classificação:\\n\", classification_report(y_val, y_pred, digits=4))\n",
        "\n",
        "# imprimir a acurácia do modelo\n",
        "print(\"Acurácia: {:.4f}\\n\".format(accuracy_score(y_val, y_pred)))\n",
        "\n",
        "# imprimir a área sob da curva\n",
        "print(\"AUC: {:.4f}\\n\".format(roc_auc_score(y_val, y_pred)))"
      ],
      "metadata": {
        "colab": {
          "base_uri": "https://localhost:8080/",
          "height": 508
        },
        "id": "jAw6YYrdPmrO",
        "outputId": "9cc4adc1-de26-4ea4-d4d5-65b5d1892654"
      },
      "execution_count": null,
      "outputs": [
        {
          "output_type": "stream",
          "name": "stdout",
          "text": [
            "Relatório de Classificação:\n",
            "               precision    recall  f1-score   support\n",
            "\n",
            "           0     0.9999    0.9456    0.9720     60415\n",
            "           1     0.0293    0.9252    0.0567       107\n",
            "\n",
            "    accuracy                         0.9456     60522\n",
            "   macro avg     0.5146    0.9354    0.5144     60522\n",
            "weighted avg     0.9981    0.9456    0.9704     60522\n",
            "\n",
            "Acurácia: 0.9456\n",
            "\n",
            "AUC: 0.9354\n",
            "\n"
          ]
        },
        {
          "output_type": "display_data",
          "data": {
            "text/plain": [
              "<Figure size 432x288 with 2 Axes>"
            ],
            "image/png": "[encoded data removed]"
          },
          "metadata": {}
        }
      ]
    },
    {
      "cell_type": "markdown",
      "source": [
        "### **Previsões com o conjunto Teste**\n",
        "________________________________________________________________________________\n"
      ],
      "metadata": {
        "id": "cBdAG265R-1I"
      }
    },
    {
      "cell_type": "code",
      "source": [
        "# fazer as previsões em cima dos dados de teste\n",
        "y_pred = model2.predict(X_test)\n",
        "y_proba = model2.predict_proba(X_test)\n",
        "\n",
        "# plotar a matrix de confusão\n",
        "mat = confusion_matrix (y_test, y_pred, normalize='true')\n",
        "sns.heatmap (mat, square=True, annot=True)\n",
        "\n",
        "# imprimir relatório de classificação\n",
        "print(\"Relatório de Classificação:\\n\", classification_report(y_test, y_pred, digits=4))\n",
        "\n",
        "# imprimir a acurácia do modelo\n",
        "print(\"Acurácia: {:.4f}\\n\".format(accuracy_score(y_test, y_pred)))\n",
        "\n",
        "# imprimir a área sob da curva\n",
        "print(\"AUC: {:.4f}\\n\".format(roc_auc_score(y_test, y_pred)))"
      ],
      "metadata": {
        "colab": {
          "base_uri": "https://localhost:8080/",
          "height": 508
        },
        "id": "9oitIoQQSiyL",
        "outputId": "fb0e3f22-20ac-42f2-8251-693cdafdea46"
      },
      "execution_count": null,
      "outputs": [
        {
          "output_type": "stream",
          "name": "stdout",
          "text": [
            "Relatório de Classificação:\n",
            "               precision    recall  f1-score   support\n",
            "\n",
            "           0     0.9998    0.9475    0.9729     42647\n",
            "           1     0.0282    0.8784    0.0546        74\n",
            "\n",
            "    accuracy                         0.9473     42721\n",
            "   macro avg     0.5140    0.9129    0.5138     42721\n",
            "weighted avg     0.9981    0.9473    0.9713     42721\n",
            "\n",
            "Acurácia: 0.9473\n",
            "\n",
            "AUC: 0.9129\n",
            "\n"
          ]
        },
        {
          "output_type": "display_data",
          "data": {
            "text/plain": [
              "<Figure size 432x288 with 2 Axes>"
            ],
            "image/png": "[encoded data removed]"
          },
          "metadata": {}
        }
      ]
    },
    {
      "cell_type": "markdown",
      "source": [
        "Neste caso, houve uma mínima diminuição nos resultados no conjunto de testes."
      ],
      "metadata": {
        "id": "xp12bFTOYQsB"
      }
    },
    {
      "cell_type": "markdown",
      "metadata": {
        "id": "0Bj7zRZMSfO7"
      },
      "source": [
        "## ***Conclusão***\n",
        "______________________________________________________________________________\n",
        "\n",
        "A construção de modelos de Machine Learning exige do cientista de dados o entendimento mínimo do business para gerar valor ao cliente. Definir bem as métricas de avaliação também é um ponto importante. Em nosso estudo, observamos que o modelo de Regressão Logística se sobressaiu ao modelo de Árvores de Descisão. Na detecção de fraudes é muito importante analisarmos de forma crítica não apenas os valores falsos negativos, mas também os falsos positivos, que geram alertas e podem fragilizar a relação entre instituição e cliente.\n",
        "\n",
        "Percebemos também que o dataset, apesar de estar bem estruturado, sem valores ausentes, demandou métodos para a adequação de dados para aplicação nos algoritmos. Isso evidencia que o profissional deve não apenas aplicar técnicas decoradas, mas analisar cuidadosamente e explorar tudo o que for possível.\n",
        "\n",
        "Para otimizar ainda mais os modelos aqui apresentados, outra técnicas de balanceamento poderiam ser utilizadas, bem como outros algoritmos de Machine Learning supervisionados.\n",
        "\n"
      ]
    },
    {
      "cell_type": "markdown",
      "source": [
        "## ***Referências***\n",
        "______________________________________________________________________________\n",
        "\n",
        "\n",
        "* ​​Domashova, J., & Zabelina, O. (2021). Detection of fraudulent transactions using SAS Viya machine learning algorithms. Procedia Computer Science, 190, 204–209. https://doi.org/10.1016/j.procs.2021.06.025 \n",
        "\n",
        "* Dornadula, V. N., & Geetha, S. (2019). Credit Card Fraud Detection using Machine Learning Algorithms. Procedia Computer Science, 165, 631–641. https://doi.org/10.1016/j.procs.2020.01.057 \n",
        "\n",
        "* ​Moreira, M. Â. L., Junior, C. de S. R., Silva, D. F. de L., de Castro Junior, M. A. P., Costa, I. P. de A., Gomes, C. F. S., & dos Santos, M. (2022). Exploratory analysis and implementation of machine learning techniques for predictive assessment of fraud in banking systems. Procedia Computer Science, 214, 117–124. https://doi.org/10.1016/j.procs.2022.11.156 "
      ],
      "metadata": {
        "id": "wG9KTUEUPv4k"
      }
    }
  ]
}